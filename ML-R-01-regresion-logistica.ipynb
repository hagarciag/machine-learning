{
 "cells": [
  {
   "cell_type": "markdown",
   "metadata": {},
   "source": [
    "# Aprendizaje de maquinas  -- R -- Regresión Logistica\n",
    "Notas de clase sobre aprendizaje de maquinas usando R"
   ]
  },
  {
   "cell_type": "markdown",
   "metadata": {},
   "source": [
    "**Juan David Velásquez Henao**   \n",
    "jdvelasq@unal.edu.co  \n",
    "Universidad Nacional de Colombia, Sede Medellín  \n",
    "Facultad de Minas  \n",
    "Medellín, Colombia  \n",
    "\n",
    "[Licencia]\n",
    "\n",
    "[Readme]"
   ]
  },
  {
   "cell_type": "markdown",
   "metadata": {},
   "source": [
    "**Software utilizado**.\n",
    "\n",
    "> Este es un documento interactivo escrito como un notebook de [Jupyter](http://jupyter.org), en el cual se presenta un tutorial sobre regresión logistica usando **R** en el contexto de aprendizaje de maquinas. Los notebooks de Jupyter permiten incoporar simultáneamente código, texto, gráficos y ecuaciones. El código presentado en este notebook puede ejecutarse en los sistemas operativos Linux y OS X.\n",
    "\n",
    "> Haga click [aquí](https://github.com/jdvelasq/guias-de-instalacion) para obtener instrucciones detalladas sobre como instalar Jupyter en Windows y Mac OS X.\n",
    "\n",
    "> Haga clic [aquí] para ver la última versión de este documento en nbviewer.\n",
    "\n",
    "> Descargue la última versión de este documento a su disco duro; luego, carguelo y ejecutelo en línea en [Try Jupyter!](https://try.jupyter.org)\n",
    "\n",
    "> Haga clic [aquí](https://github.com/jdvelasq/ETVL-R/blob/master/ETVL-R-5-visualizacion-1-base.ipynb) para ver el tutorial de visualización y gráficas."
   ]
  },
  {
   "cell_type": "markdown",
   "metadata": {},
   "source": [
    "#### Contenido"
   ]
  },
  {
   "cell_type": "markdown",
   "metadata": {},
   "source": [
    ">* [Introducción](#Introducción)\n",
    "* [Interpretación de los coeficientes en regresión logística](#Interpretación-de-los-coeficientes-en-regresión-logística)\n",
    "* [Supuestos de regresión logística](#Supuestos-de-regresión-logística)\n",
    "    * [Aplicación regresión logistica caso: Enfermedades del corazón](#Aplicación-regresión-logistica-caso:-Enfermedades-del-corazón)\n"
   ]
  },
  {
   "cell_type": "markdown",
   "metadata": {},
   "source": [
    "**Bibliografía**.\n",
    "\n",
    "> \n",
    "\n",
    "**Material complementario.**\n",
    "> Webinar RStudio [Getting your data into R](https://www.rstudio.com/resources/webinars/getting-your-data-into-r/) \n",
    "\n",
    "---\n",
    "\n"
   ]
  },
  {
   "cell_type": "markdown",
   "metadata": {},
   "source": [
    "# Introducción"
   ]
  },
  {
   "cell_type": "markdown",
   "metadata": {},
   "source": [
    "[Contenido](#Contenido)\n"
   ]
  },
  {
   "cell_type": "markdown",
   "metadata": {},
   "source": [
    "La regresión logística pertenece a una clase de modelos conocidos como modelos lineales generalizados, estos modelos poseen tres características principales:\n",
    "\n",
    "1.\tTodos ellos implican una combinación lineal de las características de entrada.\n",
    "2.\tSe considera que la salida tiene una distribución de probabilidad subyacente perteneciente a la familia de distribuciones exponenciales (estas incluyen la normal, poisson, binomial).\n",
    "3.\tLa media de la distribución de la variable salida está relacionada con la combinación lineal de las variables de entrada por de una función, conocida como función de enlace\n",
    "\n",
    "Por ejemplo, se puede expresar una combinación lineal de la siguiente manera:\n",
    "\n",
    "$$ x = \\beta_0 + \\beta_1 X_1 $$\n",
    "\n",
    "En la regresión logística,las variables de entradas se escalonan linealmente como se hace con la regresión lineal tradicional, sin embargo, el resultado es utilizado luego como una entrada a la función logística que proporciona una transformación no lineal para la variable de entrada y asegura que el rango de salida se encuentre entre [0,1]. La ecuación de la función logística es la siguiente:\n",
    "\n",
    "$$ {F}(x) = \\frac {e^x}{e^x + 1} =   \\frac {e^{-x}}{e^{-x}} \\times  \\frac {e^x}{(e^x + 1)} = \\frac {1}{1 + e^{-x}} $$\n",
    "\n",
    "Esta función modela la probabilidad de que la variable salida pertenezca a la clase 1 (en el caso clasificación binaria), en lugar de modelar la salida directamente. Como resultado, no se necesita modelar el término de error porque la variable salida, que es una probabilidad, incorpora directamente la aleatoriedad inherente del modelo.\n",
    "\n",
    "Graficamente la función logística:\n",
    "\n",
    "<img src=\"images/logistic.PNG\" width=500>\n",
    "\n",
    "Cuando $x = 0$, la función logística toma el valor 0.5. A medida que $x$ tiende a $+∞$, la función exponencial en el denominador se desvanece y la función se aproxima al valor 1. Cuando $x$ tiende a $-∞$, la función exponencial, y por lo tanto el denominador, tiende hacia infinito y la función se aproxima al valor 0. De esta manera se garantiza que el resultado esté en el intervalo [0,1], que es necesario para que sea una probabilidad."
   ]
  },
  {
   "cell_type": "markdown",
   "metadata": {
    "collapsed": true
   },
   "source": [
    "\n",
    "Utilizando la combinación lineal anterior:\n",
    "\n",
    "$$ P(Y=1 \\mid X) = \\frac {e^{\\beta_0 + \\beta_1 X_1}} {e^{\\beta_0 + \\beta_1 X_1} +1}  $$\n",
    "\n",
    "El término a la izquierda refleja que se está calculando la probabilidad de que la variable salida $Y$ pertenezca a la clase 1, basada en la evidencia de ver el valor de la variable de entrada $X$. \n",
    "\n",
    "En regresión logística, la distribución de probabilidad subyacente de la variable de  salida $Y$ es la distribución de Bernoulli. Esto es lo mismo que la distribución binomial con un solo ensayo, que se obtiene en un experimento con sólo dos posibles resultados con probabilidad constante, como el lanzamiento de una moneda. La media de la distribución de Bernoulli, $\\mu_1$, es la probabilidad del resultado (arbitrariamente elegido) para el éxito, en este caso la clase 1. Consecuentemente, el lado izquierdo en la ecuación anterior es la media de la distribución de salida subyacente. Por esta razón, la función que transforma la combinación lineal de las variables de entrada se conoce como la función media, y esta función es la logística.\n",
    "\n",
    "Ahora, para determinar la función de enlace para la regresión logística, se realizan algunas manipulaciones algebraicas  con el fin de aislar la combinación lineal de las variables de entrada.\n",
    "\n",
    "\n",
    "$$ \\mu_1 = P(Y=1 \\mid X) = \\frac {e^{\\beta_0 + \\beta_1 X_1}} {e^{\\beta_0 + \\beta_1 X_1} +1}  $$\n",
    "\n",
    "$$ P(Y=1 \\mid X) \\cdot (e^{\\beta_0 + \\beta_1 X_1} +1) = e^{\\beta_0 + \\beta_1 X_1}   $$\n",
    "\n",
    "$$ P(Y=1 \\mid X)\\cdot e^{\\beta_0 + \\beta_1 X_1} + P(Y=1 \\mid X) = e^{\\beta_0 + \\beta_1 X_1}  $$\n",
    "\n",
    "$$ P(Y=1 \\mid X)  = e^{\\beta_0 + \\beta_1 X_1} - P(Y=1 \\mid X)\\cdot e^{\\beta_0 + \\beta_1 X_1} $$\n",
    "\n",
    "$$ \\frac {P(Y=1 \\mid X)} {1-P(Y=1 \\mid X)} = e^{\\beta_0 + \\beta_1 X_1}$$\n",
    "\n",
    "$$ \\ln \\Bigg(\\frac {P(Y=1 \\mid X)} {1-P(Y=1 \\mid X)} \\Bigg) = \\beta_0 + \\beta_1 X_1   $$\n",
    "\n",
    "\n",
    "El término en el lado izquierdo se conoce como *log-odds* o *función logit* y es la función de enlace para la regresión logística. El denominador es la probabilidad de que la salida sea la clase 0 dados los datos de entrada. En consecuencia, esta fracción representa la relación de probabilidad entre la clase 1 y la clase 0, que también se conoce como *odds ratio*."
   ]
  },
  {
   "cell_type": "markdown",
   "metadata": {},
   "source": [
    "# Interpretación de los coeficientes en regresión logística"
   ]
  },
  {
   "cell_type": "markdown",
   "metadata": {},
   "source": [
    "[Contenido](#Contenido)"
   ]
  },
  {
   "cell_type": "markdown",
   "metadata": {
    "collapsed": true
   },
   "source": [
    "En la regresión logística, un incremento unitario en la variable $X$ resulta en multiplicar la *odds ratio* por una cantidad, $e^{\\beta_i}$. Cuando un coeficiente $\\beta$ es positivo, se multiplica la *odds ratio* por un número mayor que 1, por lo que se sabe que el aumento de la característica $X$ aumentará efectivamente la probabilidad de que la salida sea etiquetada como clase 1.\n",
    "\n",
    "Del mismo modo, el aumento de una varaible con un coeficiente negativo desplaza el equilibrio del modelo hacia una predicción de la clase 0. Finalmente,se debe tener en cuenta que cuando se cambia el valor de una varaible de entrada, el efecto es una multiplicación en la *odds ratio* y no en la salida del modelo en sí."
   ]
  },
  {
   "cell_type": "markdown",
   "metadata": {},
   "source": [
    "# Supuestos de regresión logística"
   ]
  },
  {
   "cell_type": "markdown",
   "metadata": {},
   "source": [
    "[Contenido](#Contenido)"
   ]
  },
  {
   "cell_type": "markdown",
   "metadata": {},
   "source": [
    "La regresión logística hace menos suposiciones sobre las variables entrada que la regresión lineal. En particular, la transformación no lineal de la función logística significa que se puede modelar relaciones de variables de entrada y salida más complejas. Todavía se tiene una suposición de linealidad, pero en este caso, es entre las variables y las probabilidades logarítmicas. No se cuenta con el supuesto de normalidad para los residuos y tampoco el supuesto de homocedasticidad. Por otro lado, los términos de error aún necesitan ser independientes. Estrictamente hablando, las variables mismas no necesitan ser independientes, pero en la práctica, el modelo de regresión seguirá enfrentándose a problemas si las características muestran un alto grado de multicolinealidad."
   ]
  },
  {
   "cell_type": "markdown",
   "metadata": {},
   "source": [
    "> [`glm{stats}`](https://stat.ethz.ch/R-manual/R-patched/library/stats/html/glm.html)"
   ]
  },
  {
   "cell_type": "code",
   "execution_count": 4,
   "metadata": {
    "collapsed": false
   },
   "outputs": [],
   "source": [
    "library(stats)"
   ]
  },
  {
   "cell_type": "markdown",
   "metadata": {},
   "source": [
    "En este ejemplo, el archivo \"data.dat\" contiene tres columnas: los atributos $x_1$ y $x_2$, y la columna $t$ que toma tres valores posibles $\\{1, 2, 3\\}$. Esta última columna indica la clase a la que pertenece el punto $(x_1, x_2)$. "
   ]
  },
  {
   "cell_type": "code",
   "execution_count": 10,
   "metadata": {
    "collapsed": false,
    "scrolled": true
   },
   "outputs": [
    {
     "name": "stderr",
     "output_type": "stream",
     "text": [
      "The following objects are masked from d (pos = 3):\n",
      "\n",
      "    t, x1, x2\n",
      "\n",
      "The following objects are masked from d (pos = 4):\n",
      "\n",
      "    t, x1, x2\n",
      "\n"
     ]
    },
    {
     "data": {
      "text/html": [
       "<table>\n",
       "<thead><tr><th scope=col>x1</th><th scope=col>x2</th><th scope=col>t</th></tr></thead>\n",
       "<tbody>\n",
       "\t<tr><td>1.29276441</td><td>0.5180493 </td><td>1         </td></tr>\n",
       "\t<tr><td>1.35473301</td><td>0.5724587 </td><td>1         </td></tr>\n",
       "\t<tr><td>0.94534834</td><td>1.9434735 </td><td>1         </td></tr>\n",
       "\t<tr><td>0.77325141</td><td>0.8040903 </td><td>1         </td></tr>\n",
       "\t<tr><td>1.30294373</td><td>0.5096835 </td><td>1         </td></tr>\n",
       "\t<tr><td>0.09102202</td><td>1.3436660 </td><td>1         </td></tr>\n",
       "</tbody>\n",
       "</table>\n"
      ],
      "text/latex": [
       "\\begin{tabular}{r|lll}\n",
       " x1 & x2 & t\\\\\n",
       "\\hline\n",
       "\t 1.29276441 & 0.5180493  & 1         \\\\\n",
       "\t 1.35473301 & 0.5724587  & 1         \\\\\n",
       "\t 0.94534834 & 1.9434735  & 1         \\\\\n",
       "\t 0.77325141 & 0.8040903  & 1         \\\\\n",
       "\t 1.30294373 & 0.5096835  & 1         \\\\\n",
       "\t 0.09102202 & 1.3436660  & 1         \\\\\n",
       "\\end{tabular}\n"
      ],
      "text/markdown": [
       "\n",
       "x1 | x2 | t | \n",
       "|---|---|---|---|---|---|\n",
       "| 1.29276441 | 0.5180493  | 1          | \n",
       "| 1.35473301 | 0.5724587  | 1          | \n",
       "| 0.94534834 | 1.9434735  | 1          | \n",
       "| 0.77325141 | 0.8040903  | 1          | \n",
       "| 1.30294373 | 0.5096835  | 1          | \n",
       "| 0.09102202 | 1.3436660  | 1          | \n",
       "\n",
       "\n"
      ],
      "text/plain": [
       "  x1         x2        t\n",
       "1 1.29276441 0.5180493 1\n",
       "2 1.35473301 0.5724587 1\n",
       "3 0.94534834 1.9434735 1\n",
       "4 0.77325141 0.8040903 1\n",
       "5 1.30294373 0.5096835 1\n",
       "6 0.09102202 1.3436660 1"
      ]
     },
     "metadata": {},
     "output_type": "display_data"
    }
   ],
   "source": [
    "## Lectura de datos\n",
    "archivo  <- \"data.dat\"\n",
    "d        <- read.table(archivo, header = TRUE)\n",
    "\n",
    "attach(d)\n",
    "head(d)"
   ]
  },
  {
   "cell_type": "code",
   "execution_count": 11,
   "metadata": {
    "collapsed": false
   },
   "outputs": [
    {
     "data": {
      "text/html": [
       "<table>\n",
       "<thead><tr><th></th><th scope=col>x1</th><th scope=col>x2</th><th scope=col>t</th></tr></thead>\n",
       "<tbody>\n",
       "\t<tr><th scope=row>85</th><td> 9.728416 </td><td>-1.2770039</td><td>3         </td></tr>\n",
       "\t<tr><th scope=row>86</th><td>10.400324 </td><td> 0.3607126</td><td>3         </td></tr>\n",
       "\t<tr><th scope=row>87</th><td> 9.504032 </td><td> 1.8626626</td><td>3         </td></tr>\n",
       "\t<tr><th scope=row>88</th><td> 8.769035 </td><td> 0.3010237</td><td>3         </td></tr>\n",
       "\t<tr><th scope=row>89</th><td> 9.402393 </td><td> 0.1613829</td><td>3         </td></tr>\n",
       "\t<tr><th scope=row>90</th><td> 9.618653 </td><td>-1.3617843</td><td>3         </td></tr>\n",
       "</tbody>\n",
       "</table>\n"
      ],
      "text/latex": [
       "\\begin{tabular}{r|lll}\n",
       "  & x1 & x2 & t\\\\\n",
       "\\hline\n",
       "\t85 &  9.728416  & -1.2770039 & 3         \\\\\n",
       "\t86 & 10.400324  &  0.3607126 & 3         \\\\\n",
       "\t87 &  9.504032  &  1.8626626 & 3         \\\\\n",
       "\t88 &  8.769035  &  0.3010237 & 3         \\\\\n",
       "\t89 &  9.402393  &  0.1613829 & 3         \\\\\n",
       "\t90 &  9.618653  & -1.3617843 & 3         \\\\\n",
       "\\end{tabular}\n"
      ],
      "text/markdown": [
       "\n",
       "| <!--/--> | x1 | x2 | t | \n",
       "|---|---|---|---|---|---|\n",
       "| 85 |  9.728416  | -1.2770039 | 3          | \n",
       "| 86 | 10.400324  |  0.3607126 | 3          | \n",
       "| 87 |  9.504032  |  1.8626626 | 3          | \n",
       "| 88 |  8.769035  |  0.3010237 | 3          | \n",
       "| 89 |  9.402393  |  0.1613829 | 3          | \n",
       "| 90 |  9.618653  | -1.3617843 | 3          | \n",
       "\n",
       "\n"
      ],
      "text/plain": [
       "   x1        x2         t\n",
       "85  9.728416 -1.2770039 3\n",
       "86 10.400324  0.3607126 3\n",
       "87  9.504032  1.8626626 3\n",
       "88  8.769035  0.3010237 3\n",
       "89  9.402393  0.1613829 3\n",
       "90  9.618653 -1.3617843 3"
      ]
     },
     "metadata": {},
     "output_type": "display_data"
    }
   ],
   "source": [
    "tail(d)"
   ]
  },
  {
   "cell_type": "code",
   "execution_count": 12,
   "metadata": {
    "collapsed": false
   },
   "outputs": [
    {
     "data": {
      "text/plain": [
       "\n",
       " 1  2  3 \n",
       "30 30 30 "
      ]
     },
     "metadata": {},
     "output_type": "display_data"
    }
   ],
   "source": [
    "# cuenta cuantas instancias hay por clase.\n",
    "table(d$t)"
   ]
  },
  {
   "cell_type": "code",
   "execution_count": 13,
   "metadata": {
    "collapsed": false
   },
   "outputs": [
    {
     "data": {
      "image/png": "[encoded data removed]",
      "text/plain": [
       "plot without title"
      ]
     },
     "metadata": {},
     "output_type": "display_data"
    }
   ],
   "source": [
    "## Grafica del conjunto de datos\n",
    "\n",
    "options(repr.plot.width=6, repr.plot.height=6)\n",
    "\n",
    "plot(x1[t == 1], x2[t == 1],                      # Valores pertenecientes a clase 1\n",
    "     col = 'black',                               # Color puntos clase 1\n",
    "     type = 'p',                                  # p -- point\n",
    "     pch = 21,\n",
    "     bg = 'red', \n",
    "     cex = 0.7,   \n",
    "     xlim = c(-2, 11), ylim = c(-2, 11),          # Limite eje x y eje y de la grafica\n",
    "     xlab = 'x1', ylab = 'x2')                    # Etiquetas del eje x y el eje y\n",
    "\n",
    "points(x1[t == 2], x2[t==2],                      # Valores pertenecientes a clase 2\n",
    "       bg = 'blue',                               # Color puntos clase 2\n",
    "       pch = 21, \n",
    "       cex = 0.7)\n",
    "\n",
    "points(x1[t == 3], x2[t==3],                      # Valores pertenecientes a clase 3\n",
    "       bg = 'green',                              # Color puntos clase 3\n",
    "       pch = 21, \n",
    "       cex = 0.7)\n",
    "\n",
    "grid()                                            # Agrega malla"
   ]
  },
  {
   "cell_type": "code",
   "execution_count": 14,
   "metadata": {
    "collapsed": false
   },
   "outputs": [
    {
     "data": {
      "text/html": [
       "<table>\n",
       "<thead><tr><th scope=col>x1</th><th scope=col>x2</th><th scope=col>t</th><th scope=col>C1</th><th scope=col>C2</th><th scope=col>C3</th></tr></thead>\n",
       "<tbody>\n",
       "\t<tr><td>1.29276441</td><td>0.5180493 </td><td>1         </td><td>1         </td><td>0         </td><td>0         </td></tr>\n",
       "\t<tr><td>1.35473301</td><td>0.5724587 </td><td>1         </td><td>1         </td><td>0         </td><td>0         </td></tr>\n",
       "\t<tr><td>0.94534834</td><td>1.9434735 </td><td>1         </td><td>1         </td><td>0         </td><td>0         </td></tr>\n",
       "\t<tr><td>0.77325141</td><td>0.8040903 </td><td>1         </td><td>1         </td><td>0         </td><td>0         </td></tr>\n",
       "\t<tr><td>1.30294373</td><td>0.5096835 </td><td>1         </td><td>1         </td><td>0         </td><td>0         </td></tr>\n",
       "\t<tr><td>0.09102202</td><td>1.3436660 </td><td>1         </td><td>1         </td><td>0         </td><td>0         </td></tr>\n",
       "</tbody>\n",
       "</table>\n"
      ],
      "text/latex": [
       "\\begin{tabular}{r|llllll}\n",
       " x1 & x2 & t & C1 & C2 & C3\\\\\n",
       "\\hline\n",
       "\t 1.29276441 & 0.5180493  & 1          & 1          & 0          & 0         \\\\\n",
       "\t 1.35473301 & 0.5724587  & 1          & 1          & 0          & 0         \\\\\n",
       "\t 0.94534834 & 1.9434735  & 1          & 1          & 0          & 0         \\\\\n",
       "\t 0.77325141 & 0.8040903  & 1          & 1          & 0          & 0         \\\\\n",
       "\t 1.30294373 & 0.5096835  & 1          & 1          & 0          & 0         \\\\\n",
       "\t 0.09102202 & 1.3436660  & 1          & 1          & 0          & 0         \\\\\n",
       "\\end{tabular}\n"
      ],
      "text/markdown": [
       "\n",
       "x1 | x2 | t | C1 | C2 | C3 | \n",
       "|---|---|---|---|---|---|\n",
       "| 1.29276441 | 0.5180493  | 1          | 1          | 0          | 0          | \n",
       "| 1.35473301 | 0.5724587  | 1          | 1          | 0          | 0          | \n",
       "| 0.94534834 | 1.9434735  | 1          | 1          | 0          | 0          | \n",
       "| 0.77325141 | 0.8040903  | 1          | 1          | 0          | 0          | \n",
       "| 1.30294373 | 0.5096835  | 1          | 1          | 0          | 0          | \n",
       "| 0.09102202 | 1.3436660  | 1          | 1          | 0          | 0          | \n",
       "\n",
       "\n"
      ],
      "text/plain": [
       "  x1         x2        t C1 C2 C3\n",
       "1 1.29276441 0.5180493 1 1  0  0 \n",
       "2 1.35473301 0.5724587 1 1  0  0 \n",
       "3 0.94534834 1.9434735 1 1  0  0 \n",
       "4 0.77325141 0.8040903 1 1  0  0 \n",
       "5 1.30294373 0.5096835 1 1  0  0 \n",
       "6 0.09102202 1.3436660 1 1  0  0 "
      ]
     },
     "metadata": {},
     "output_type": "display_data"
    },
    {
     "data": {
      "text/html": [
       "<table>\n",
       "<thead><tr><th></th><th scope=col>x1</th><th scope=col>x2</th><th scope=col>t</th><th scope=col>C1</th><th scope=col>C2</th><th scope=col>C3</th></tr></thead>\n",
       "<tbody>\n",
       "\t<tr><th scope=row>85</th><td> 9.728416 </td><td>-1.2770039</td><td>3         </td><td>0         </td><td>0         </td><td>1         </td></tr>\n",
       "\t<tr><th scope=row>86</th><td>10.400324 </td><td> 0.3607126</td><td>3         </td><td>0         </td><td>0         </td><td>1         </td></tr>\n",
       "\t<tr><th scope=row>87</th><td> 9.504032 </td><td> 1.8626626</td><td>3         </td><td>0         </td><td>0         </td><td>1         </td></tr>\n",
       "\t<tr><th scope=row>88</th><td> 8.769035 </td><td> 0.3010237</td><td>3         </td><td>0         </td><td>0         </td><td>1         </td></tr>\n",
       "\t<tr><th scope=row>89</th><td> 9.402393 </td><td> 0.1613829</td><td>3         </td><td>0         </td><td>0         </td><td>1         </td></tr>\n",
       "\t<tr><th scope=row>90</th><td> 9.618653 </td><td>-1.3617843</td><td>3         </td><td>0         </td><td>0         </td><td>1         </td></tr>\n",
       "</tbody>\n",
       "</table>\n"
      ],
      "text/latex": [
       "\\begin{tabular}{r|llllll}\n",
       "  & x1 & x2 & t & C1 & C2 & C3\\\\\n",
       "\\hline\n",
       "\t85 &  9.728416  & -1.2770039 & 3          & 0          & 0          & 1         \\\\\n",
       "\t86 & 10.400324  &  0.3607126 & 3          & 0          & 0          & 1         \\\\\n",
       "\t87 &  9.504032  &  1.8626626 & 3          & 0          & 0          & 1         \\\\\n",
       "\t88 &  8.769035  &  0.3010237 & 3          & 0          & 0          & 1         \\\\\n",
       "\t89 &  9.402393  &  0.1613829 & 3          & 0          & 0          & 1         \\\\\n",
       "\t90 &  9.618653  & -1.3617843 & 3          & 0          & 0          & 1         \\\\\n",
       "\\end{tabular}\n"
      ],
      "text/markdown": [
       "\n",
       "| <!--/--> | x1 | x2 | t | C1 | C2 | C3 | \n",
       "|---|---|---|---|---|---|\n",
       "| 85 |  9.728416  | -1.2770039 | 3          | 0          | 0          | 1          | \n",
       "| 86 | 10.400324  |  0.3607126 | 3          | 0          | 0          | 1          | \n",
       "| 87 |  9.504032  |  1.8626626 | 3          | 0          | 0          | 1          | \n",
       "| 88 |  8.769035  |  0.3010237 | 3          | 0          | 0          | 1          | \n",
       "| 89 |  9.402393  |  0.1613829 | 3          | 0          | 0          | 1          | \n",
       "| 90 |  9.618653  | -1.3617843 | 3          | 0          | 0          | 1          | \n",
       "\n",
       "\n"
      ],
      "text/plain": [
       "   x1        x2         t C1 C2 C3\n",
       "85  9.728416 -1.2770039 3 0  0  1 \n",
       "86 10.400324  0.3607126 3 0  0  1 \n",
       "87  9.504032  1.8626626 3 0  0  1 \n",
       "88  8.769035  0.3010237 3 0  0  1 \n",
       "89  9.402393  0.1613829 3 0  0  1 \n",
       "90  9.618653 -1.3617843 3 0  0  1 "
      ]
     },
     "metadata": {},
     "output_type": "display_data"
    },
    {
     "name": "stderr",
     "output_type": "stream",
     "text": [
      "The following objects are masked from d (pos = 3):\n",
      "\n",
      "    t, x1, x2\n",
      "\n",
      "The following objects are masked from d (pos = 4):\n",
      "\n",
      "    t, x1, x2\n",
      "\n",
      "The following objects are masked from d (pos = 5):\n",
      "\n",
      "    t, x1, x2\n",
      "\n"
     ]
    }
   ],
   "source": [
    "## Organizar el conjunto de datos en un dataframe\n",
    "\n",
    "d$C1 <- ifelse(d$t == 1, 1, 0)    # Añadir una columna con valor 1 si t=1, en caso contrario añadir valor cero (0)\n",
    "d$C2 <- ifelse(d$t == 2, 1, 0)    # Añadir una columna con valor 1 si t=2, en caso contrario añadir valor cero (0)\n",
    "d$C3 <- ifelse(d$t == 3, 1, 0)    # Añadir una columna con valor 1 si t=3, en caso contrario añadir valor cero (0)\n",
    "\n",
    "head(d)\n",
    "tail(d)\n",
    "attach(d)"
   ]
  },
  {
   "cell_type": "code",
   "execution_count": 15,
   "metadata": {
    "collapsed": false
   },
   "outputs": [
    {
     "name": "stderr",
     "output_type": "stream",
     "text": [
      "Warning message:\n",
      "“glm.fit: fitted probabilities numerically 0 or 1 occurred”Warning message:\n",
      "“glm.fit: fitted probabilities numerically 0 or 1 occurred”Warning message:\n",
      "“glm.fit: fitted probabilities numerically 0 or 1 occurred”"
     ]
    }
   ],
   "source": [
    "## Estimacion del modelo de clasificación\n",
    "\n",
    "## Modelo para ajuste clase 1\n",
    "m.C1 <- glm(C1 ~ x1 + x2,                            # Formula de regresion para clase 1\n",
    "            data = d,                                # Conjunto de datos\n",
    "            family = binomial,                       # Tipo de modelo\n",
    "            control = glm.control(maxit = 100))      # Control del proceso de ajuste\n",
    "\n",
    "## Modelo para ajuste clase 2\n",
    "m.C2 <- glm(C2 ~ x1 + x2,                            # Formula de regresion para clase 2\n",
    "            data = d,                                # Conjunto de datos\n",
    "            family = binomial,                       # Tipo de modelo \n",
    "            control = glm.control(maxit = 100))      # Control del proceso de ajuste\n",
    "\n",
    "## Modelo para ajuste clase 3\n",
    "m.C3 <- glm(C3 ~ x1 + x2,                            # Formula de regresion para clase 3\n",
    "            data = d,                                # Conjunto de datos\n",
    "            family = binomial,                       # Tipo de modelo\n",
    "            control = glm.control(maxit = 100))      # Control del proceso de ajuste"
   ]
  },
  {
   "cell_type": "code",
   "execution_count": 16,
   "metadata": {
    "collapsed": false,
    "scrolled": true
   },
   "outputs": [
    {
     "name": "stdout",
     "output_type": "stream",
     "text": [
      "\n",
      "Call:  glm(formula = C1 ~ x1 + x2, family = binomial, data = d, control = glm.control(maxit = 100))\n",
      "\n",
      "Coefficients:\n",
      "(Intercept)           x1           x2  \n",
      "     43.701       -8.887       -3.645  \n",
      "\n",
      "Degrees of Freedom: 89 Total (i.e. Null);  87 Residual\n",
      "Null Deviance:\t    114.6 \n",
      "Residual Deviance: 4.262e-10 \tAIC: 6\n"
     ]
    }
   ],
   "source": [
    "## Modelo ajustado para clase 1\n",
    "print(m.C1)"
   ]
  },
  {
   "cell_type": "code",
   "execution_count": 19,
   "metadata": {
    "collapsed": false
   },
   "outputs": [
    {
     "data": {
      "text/plain": [
       "\n",
       "Call:\n",
       "glm(formula = C1 ~ x1 + x2, family = binomial, data = d, control = glm.control(maxit = 100))\n",
       "\n",
       "Deviance Residuals: \n",
       "       Min          1Q      Median          3Q         Max  \n",
       "-1.183e-05  -2.110e-08  -2.110e-08   2.110e-08   8.398e-06  \n",
       "\n",
       "Coefficients:\n",
       "             Estimate Std. Error z value Pr(>|z|)\n",
       "(Intercept)    43.701  98010.110   0.000        1\n",
       "x1             -8.887  16493.106  -0.001        1\n",
       "x2             -3.645  13764.303   0.000        1\n",
       "\n",
       "(Dispersion parameter for binomial family taken to be 1)\n",
       "\n",
       "    Null deviance: 1.1457e+02  on 89  degrees of freedom\n",
       "Residual deviance: 4.2618e-10  on 87  degrees of freedom\n",
       "AIC: 6\n",
       "\n",
       "Number of Fisher Scoring iterations: 26\n"
      ]
     },
     "metadata": {},
     "output_type": "display_data"
    }
   ],
   "source": [
    "summary(m.C1)"
   ]
  },
  {
   "cell_type": "code",
   "execution_count": 17,
   "metadata": {
    "collapsed": false,
    "scrolled": true
   },
   "outputs": [
    {
     "name": "stdout",
     "output_type": "stream",
     "text": [
      "\n",
      "Call:  glm(formula = C2 ~ x1 + x2, family = binomial, data = d, control = glm.control(maxit = 100))\n",
      "\n",
      "Coefficients:\n",
      "(Intercept)           x1           x2  \n",
      "   -59.5063       0.6514      15.8962  \n",
      "\n",
      "Degrees of Freedom: 89 Total (i.e. Null);  87 Residual\n",
      "Null Deviance:\t    114.6 \n",
      "Residual Deviance: 2.364e-10 \tAIC: 6\n"
     ]
    }
   ],
   "source": [
    "## Modelo ajustado para clase 2\n",
    "print(m.C2)\n"
   ]
  },
  {
   "cell_type": "code",
   "execution_count": 20,
   "metadata": {
    "collapsed": false
   },
   "outputs": [
    {
     "data": {
      "text/plain": [
       "\n",
       "Call:\n",
       "glm(formula = C2 ~ x1 + x2, family = binomial, data = d, control = glm.control(maxit = 100))\n",
       "\n",
       "Deviance Residuals: \n",
       "       Min          1Q      Median          3Q         Max  \n",
       "-1.006e-05  -2.110e-08  -2.110e-08   2.110e-08   9.987e-06  \n",
       "\n",
       "Coefficients:\n",
       "              Estimate Std. Error z value Pr(>|z|)\n",
       "(Intercept) -5.951e+01  1.987e+05       0        1\n",
       "x1           6.514e-01  2.069e+04       0        1\n",
       "x2           1.590e+01  3.815e+04       0        1\n",
       "\n",
       "(Dispersion parameter for binomial family taken to be 1)\n",
       "\n",
       "    Null deviance: 1.1457e+02  on 89  degrees of freedom\n",
       "Residual deviance: 2.3643e-10  on 87  degrees of freedom\n",
       "AIC: 6\n",
       "\n",
       "Number of Fisher Scoring iterations: 27\n"
      ]
     },
     "metadata": {},
     "output_type": "display_data"
    }
   ],
   "source": [
    "summary(m.C2)"
   ]
  },
  {
   "cell_type": "code",
   "execution_count": 18,
   "metadata": {
    "collapsed": false,
    "scrolled": true
   },
   "outputs": [
    {
     "name": "stdout",
     "output_type": "stream",
     "text": [
      "\n",
      "Call:  glm(formula = C3 ~ x1 + x2, family = binomial, data = d, control = glm.control(maxit = 100))\n",
      "\n",
      "Coefficients:\n",
      "(Intercept)           x1           x2  \n",
      "    -36.782        9.007      -13.503  \n",
      "\n",
      "Degrees of Freedom: 89 Total (i.e. Null);  87 Residual\n",
      "Null Deviance:\t    114.6 \n",
      "Residual Deviance: 2.462e-10 \tAIC: 6\n"
     ]
    }
   ],
   "source": [
    "## Modelo ajustado para clase 3\n",
    "print(m.C3)"
   ]
  },
  {
   "cell_type": "code",
   "execution_count": 21,
   "metadata": {
    "collapsed": false,
    "scrolled": true
   },
   "outputs": [
    {
     "data": {
      "text/plain": [
       "\n",
       "Call:\n",
       "glm(formula = C3 ~ x1 + x2, family = binomial, data = d, control = glm.control(maxit = 100))\n",
       "\n",
       "Deviance Residuals: \n",
       "       Min          1Q      Median          3Q         Max  \n",
       "-1.030e-05  -2.110e-08  -2.110e-08   2.110e-08   1.026e-05  \n",
       "\n",
       "Coefficients:\n",
       "              Estimate Std. Error z value Pr(>|z|)\n",
       "(Intercept)    -36.782 182549.391       0        1\n",
       "x1               9.007  24432.611       0        1\n",
       "x2             -13.503  35825.947       0        1\n",
       "\n",
       "(Dispersion parameter for binomial family taken to be 1)\n",
       "\n",
       "    Null deviance: 1.1457e+02  on 89  degrees of freedom\n",
       "Residual deviance: 2.4625e-10  on 87  degrees of freedom\n",
       "AIC: 6\n",
       "\n",
       "Number of Fisher Scoring iterations: 27\n"
      ]
     },
     "metadata": {},
     "output_type": "display_data"
    }
   ],
   "source": [
    "summary(m.C3)"
   ]
  },
  {
   "cell_type": "code",
   "execution_count": 25,
   "metadata": {
    "collapsed": false
   },
   "outputs": [
    {
     "data": {
      "image/png": "[encoded data removed]",
      "text/plain": [
       "plot without title"
      ]
     },
     "metadata": {},
     "output_type": "display_data"
    }
   ],
   "source": [
    "## Grafica de resultados del clasificador\n",
    "\n",
    "## Grafica Inicial\n",
    "options(repr.plot.width=6, repr.plot.height=6)\n",
    "\n",
    "plot(x1[t == 1], x2[t==1],                                      # Valores pertenecientes a clase 1\n",
    "     col = 'black',                                             # Color puntos clase 1\n",
    "     type = 'p',                                                # p -- point\n",
    "     pch = 21,\n",
    "     bg = 'red', \n",
    "     cex = 0.7,   \n",
    "     xlim = c(-2, 11), ylim = c(-2, 11),                        # Limite eje x y eje y de la grafica\n",
    "     xlab = 'x1', ylab = 'x2')                                  # Etiquetas del eje x y el eje y\n",
    "\n",
    "points(x1[t == 2], x2[t==2],                                    # Valores pertenecientes a clase 2\n",
    "       bg = 'blue',                                             # Color puntos clase 2\n",
    "       pch = 21, \n",
    "       cex = 0.7)\n",
    "\n",
    "points(x1[t == 3], x2[t==3],                                    # Valores pertenecientes a clase 3\n",
    "       bg = 'green',                                            # Color puntos clase 3\n",
    "       pch = 21, \n",
    "       cex = 0.7)\n",
    "\n",
    "grid()                                                          # Agrega malla\n",
    "\n",
    "## Resultados\n",
    "\n",
    "abline(a = -m.C1$coefficients[1] / m.C1$coefficients[3],\n",
    "       b = -m.C1$coefficients[2] / m.C1$coefficients[3],\n",
    "       lwd = 2, \n",
    "       lty = 'dashed', \n",
    "       col = 'red', )\n",
    "\n",
    "\n",
    "abline(a = -m.C2$coefficients[1] / m.C2$coefficients[3],\n",
    "       b = -m.C2$coefficients[2] / m.C2$coefficients[3], \n",
    "       lwd = 2,\n",
    "       lty = 'dashed', \n",
    "       col = 'blue')\n",
    "\n",
    "abline(a = -m.C3$coefficients[1] / m.C3$coefficients[3],\n",
    "       b = -m.C3$coefficients[2] / m.C3$coefficients[3], \n",
    "       lwd = 2, \n",
    "       lty = 'dashed',\n",
    "       col = 'green')"
   ]
  },
  {
   "cell_type": "markdown",
   "metadata": {},
   "source": [
    "---\n"
   ]
  },
  {
   "cell_type": "markdown",
   "metadata": {},
   "source": [
    "> [` family {stats}`](https://stat.ethz.ch/R-manual/R-devel/library/stats/html/family.html) \n"
   ]
  },
  {
   "cell_type": "markdown",
   "metadata": {},
   "source": [
    "**Ejercicio.--**  Utilice el mismo conjunto de datos para realizar el modelo de regresión logistica con los siguientes parametros:\n",
    "\n",
    "* 70% de los datos para entrenamiento y 30% validación.\n",
    "\n",
    "* 80% de los datos para entrenamiento y 20% validación.\n",
    "\n",
    "* Utilice en la función `glm` diferente argumentos para `family` y ajuste diferentes modelos.\n",
    "\n",
    "¿Que modelos obtuvieron mejor desempeño?"
   ]
  },
  {
   "cell_type": "code",
   "execution_count": null,
   "metadata": {
    "collapsed": true
   },
   "outputs": [],
   "source": []
  },
  {
   "cell_type": "markdown",
   "metadata": {},
   "source": [
    "---\n"
   ]
  },
  {
   "cell_type": "markdown",
   "metadata": {},
   "source": [
    "## Aplicación regresión logistica caso: Enfermedades del corazón"
   ]
  },
  {
   "cell_type": "markdown",
   "metadata": {},
   "source": [
    "[Contenido](#Contenido)"
   ]
  },
  {
   "cell_type": "markdown",
   "metadata": {},
   "source": [
    "> [`factor{base}`](http://stat.ethz.ch/R-manual/R-devel/library/base/html/factor.html)\n",
    "\n",
    "> [`gml{stats}`](https://stat.ethz.ch/R-manual/R-patched/library/stats/html/glm.html)"
   ]
  },
  {
   "cell_type": "markdown",
   "metadata": {},
   "source": [
    "Los datos contienen 270 observaciones para pacientes con potenciales problemas de corazón. De este conjunto, en 120 pacientes se demostró que tienen problemas de corazón. Se buscará predecir si un paciente tiene una enfermedad cardíaca basada en su perfil y una serie de pruebas médicas."
   ]
  },
  {
   "cell_type": "code",
   "execution_count": 1,
   "metadata": {
    "collapsed": false
   },
   "outputs": [
    {
     "name": "stderr",
     "output_type": "stream",
     "text": [
      "Loading required package: lattice\n",
      "Loading required package: ggplot2\n",
      "Loading required package: Matrix\n",
      "Loading required package: foreach\n",
      "Loaded glmnet 2.0-5\n",
      "\n"
     ]
    }
   ],
   "source": [
    "## Instale y cargue las siguientes librerias\n",
    "library(caret) \n",
    "library(glmnet)"
   ]
  },
  {
   "cell_type": "code",
   "execution_count": 3,
   "metadata": {
    "collapsed": false
   },
   "outputs": [
    {
     "name": "stderr",
     "output_type": "stream",
     "text": [
      "Warning message in file(file, \"rt\"):\n",
      "\"InternetOpenUrl failed: 'A connection with the server could not be established'\""
     ]
    },
    {
     "ename": "ERROR",
     "evalue": "Error in file(file, \"rt\"): cannot open the connection\n",
     "output_type": "error",
     "traceback": [
      "Error in file(file, \"rt\"): cannot open the connection\nTraceback:\n",
      "1. read.table(\"http://archive.ics.uci.edu/ml/machine-learning-databases/statlog/heart/heart.dat\", \n .     quote = \"\\\"\")",
      "2. file(file, \"rt\")"
     ]
    }
   ],
   "source": [
    "## Lectura de los datos. \n",
    "heart <- read.table(\"http://archive.ics.uci.edu/ml/machine-learning-databases/statlog/heart/heart.dat\",\n",
    "                   quote=\"\\\"\")"
   ]
  },
  {
   "cell_type": "code",
   "execution_count": 33,
   "metadata": {
    "collapsed": true
   },
   "outputs": [],
   "source": [
    "## Asignación de nombres a las columnas de acuerdo a la web.\n",
    "names(heart) <- c(\"AGE\", \"SEX\", \"CHESTPAIN\", \"RESTBP\", \"CHOL\",\n",
    "                  \"SUGAR\", \"ECG\", \"MAXHR\", \"ANGINA\", \"DEP\", \n",
    "                  \"EXERCISE\", \"FLUOR\",\"THAL\", \"OUTPUT\")"
   ]
  },
  {
   "cell_type": "markdown",
   "metadata": {},
   "source": [
    "Tipo y definición de las variables de entrada:\n",
    "\n",
    "<img src=\"images/hola.PNG\" width=400>"
   ]
  },
  {
   "cell_type": "markdown",
   "metadata": {},
   "source": [
    "Antes de entrenar un modelo de regresión logística se debe tener en cuenta si es necesario realizar un pre procesamiento de datos. Un error común cuando se trabaja con datos numéricos es la falta de aviso cuando una característica es una variable categórica y no una variable numérica. En el conjunto de datos del corazón, hay cuatro variables de este tipo. Las características de CHESTPAIN, THAL y ECG son características categóricas. La variable EXERCISE, aunque sea una variable categórica ordenada, es sin embargo una variable categórica, por lo que tendrá que ser codificada como un factor también:\n",
    "\n"
   ]
  },
  {
   "cell_type": "code",
   "execution_count": 34,
   "metadata": {
    "collapsed": true
   },
   "outputs": [],
   "source": [
    "## Variables como factor\n",
    "\n",
    "heart$CHESTPAIN <- factor(heart$CHESTPAIN)\n",
    "heart$ECG       <- factor(heart$ECG)\n",
    "heart$THAL      <- factor(heart$THAL)\n",
    "heart$EXERCISE  <- factor(heart$EXERCISE)"
   ]
  },
  {
   "cell_type": "markdown",
   "metadata": {},
   "source": [
    "La variable de salida esta clasificada de modo que la clase 1 corresponde a la ausencia de enfermedad cardíaca y la clase 2 corresponde a la presencia de esta. Finalmente se codifica la variable de salida de manera que las etiquetas de clase sean 0 y 1, respectivamente. Esto se hace restando 1 la variable salida:"
   ]
  },
  {
   "cell_type": "code",
   "execution_count": 35,
   "metadata": {
    "collapsed": true
   },
   "outputs": [],
   "source": [
    "## Variable salida 0 y 1\n",
    "\n",
    "heart$OUTPUT <- heart$OUTPUT - 1"
   ]
  },
  {
   "cell_type": "code",
   "execution_count": 36,
   "metadata": {
    "collapsed": false
   },
   "outputs": [],
   "source": [
    "## Partición de datos para entrenamiento y prueba (85% y 15%)\n",
    "set.seed(987954)      # Semilla\n",
    "\n",
    "## Partición de los datos\n",
    "\n",
    "heart_sampling_vector <- createDataPartition(heart$OUTPUT,  # datos\n",
    "                                             p = 0.85,      # Porcentaje de partición de datos\n",
    "                                             list = FALSE)   \n"
   ]
  },
  {
   "cell_type": "code",
   "execution_count": 37,
   "metadata": {
    "collapsed": true
   },
   "outputs": [],
   "source": [
    "## 230 observaciones para entrenamiento\n",
    "\n",
    "heart_train        <- heart[heart_sampling_vector,]\n",
    "heart_train_labels <- heart$OUTPUT[heart_sampling_vector]          # Variable salida entrenamiento\n",
    "\n",
    "## 40 observaciones para prueba\n",
    "\n",
    "heart_test         <- heart[-heart_sampling_vector,]               # Tomar datos que no fueron seleccionados para entrenar\n",
    "heart_test_labels  <- heart$OUTPUT[-heart_sampling_vector]         # Variable salida prueba "
   ]
  },
  {
   "cell_type": "code",
   "execution_count": 38,
   "metadata": {
    "collapsed": false
   },
   "outputs": [],
   "source": [
    "## Modelo de regresion logistica\n",
    "\n",
    "heart_model <- glm(OUTPUT ~ .,                                     # Variable 'output' vs todas las variables\n",
    "                   data = heart_train,                             # Fuente de datos\n",
    "                   family = binomial(\"logit\"))                     # Tipo de modelo"
   ]
  },
  {
   "cell_type": "code",
   "execution_count": 39,
   "metadata": {
    "collapsed": false
   },
   "outputs": [
    {
     "data": {
      "text/plain": [
       "\n",
       "Call:\n",
       "glm(formula = OUTPUT ~ ., family = binomial(\"logit\"), data = heart_train)\n",
       "\n",
       "Deviance Residuals: \n",
       "    Min       1Q   Median       3Q      Max  \n",
       "-2.7137  -0.4421  -0.1382   0.3588   2.8118  \n",
       "\n",
       "Coefficients:\n",
       "             Estimate Std. Error z value Pr(>|z|)    \n",
       "(Intercept) -7.946051   3.477686  -2.285 0.022321 *  \n",
       "AGE         -0.020538   0.029580  -0.694 0.487482    \n",
       "SEX          1.641327   0.656291   2.501 0.012387 *  \n",
       "CHESTPAIN2   1.308530   1.000913   1.307 0.191098    \n",
       "CHESTPAIN3   0.560233   0.865114   0.648 0.517255    \n",
       "CHESTPAIN4   2.356442   0.820521   2.872 0.004080 ** \n",
       "RESTBP       0.026588   0.013357   1.991 0.046529 *  \n",
       "CHOL         0.008105   0.004790   1.692 0.090593 .  \n",
       "SUGAR       -1.263606   0.732414  -1.725 0.084480 .  \n",
       "ECG1         1.352751   3.287293   0.412 0.680699    \n",
       "ECG2         0.563430   0.461872   1.220 0.222509    \n",
       "MAXHR       -0.013585   0.012873  -1.055 0.291283    \n",
       "ANGINA       0.999906   0.525996   1.901 0.057305 .  \n",
       "DEP          0.196349   0.282891   0.694 0.487632    \n",
       "EXERCISE2    0.743530   0.560700   1.326 0.184815    \n",
       "EXERCISE3    0.946718   1.165567   0.812 0.416655    \n",
       "FLUOR        1.310240   0.308348   4.249 2.15e-05 ***\n",
       "THAL6        0.304117   0.995464   0.306 0.759983    \n",
       "THAL7        1.717886   0.510986   3.362 0.000774 ***\n",
       "---\n",
       "Signif. codes:  0 ‘***’ 0.001 ‘**’ 0.01 ‘*’ 0.05 ‘.’ 0.1 ‘ ’ 1\n",
       "\n",
       "(Dispersion parameter for binomial family taken to be 1)\n",
       "\n",
       "    Null deviance: 315.90  on 229  degrees of freedom\n",
       "Residual deviance: 140.36  on 211  degrees of freedom\n",
       "AIC: 178.36\n",
       "\n",
       "Number of Fisher Scoring iterations: 6\n"
      ]
     },
     "metadata": {},
     "output_type": "display_data"
    }
   ],
   "source": [
    "## Resumen del ajuste\n",
    "summary(heart_model)"
   ]
  },
  {
   "cell_type": "markdown",
   "metadata": {},
   "source": [
    "Debido al hecho de que los modelos de regresión logística son entrenados con el criterio de máxima verosimilitud, se utiliza la distribución normal estándar para realizar pruebas de significación en los coeficientes. Por ejemplo, para reproducir el valor p de la función THAL7 que corresponde al valor z de 3.362, se puede escribir lo siguiente :"
   ]
  },
  {
   "cell_type": "code",
   "execution_count": 40,
   "metadata": {
    "collapsed": false
   },
   "outputs": [
    {
     "data": {
      "text/html": [
       "0.000773801235977549"
      ],
      "text/latex": [
       "0.000773801235977549"
      ],
      "text/markdown": [
       "0.000773801235977549"
      ],
      "text/plain": [
       "[1] 0.0007738012"
      ]
     },
     "metadata": {},
     "output_type": "display_data"
    }
   ],
   "source": [
    "## Calculo estadistico z variable THAL 7\n",
    "\n",
    "pnorm(3.362 , \n",
    "      lower.tail = F) * 2  \n"
   ]
  },
  {
   "cell_type": "markdown",
   "metadata": {},
   "source": [
    "A partir del resumen del modelo, se observa que las variables FLUOR, CHESTPAIN4 y THAL7 son los factores predictivos más fuertes para las enfermedades del corazón. Un número de características de entrada tienen valores de $p$ relativamente altos lo que puede indicar que probablemente no son buenos indicadores de enfermedad cardíaca en presencia de otras características.\n",
    "\n",
    "Los resultados sugieren que la edad del corazón, por ejemplo, no es un buen indicador para la enfermedad cardíaca; más bien, dice que en presencia de las otras características de entrada, la edad realmente no agrega mucho al modelo. Por otra parte, tenga en cuenta que se tiene un cierto grado de colinealidad en las variables de entrada. El coeficiente de regresión de la edad es negativo pero se puede esperar que la probabilidad de enfermedad cardíaca aumenta con la edad."
   ]
  },
  {
   "cell_type": "code",
   "execution_count": 41,
   "metadata": {
    "collapsed": true
   },
   "outputs": [],
   "source": [
    "## Modelo logistico explicado por edad\n",
    "\n",
    "heart_model2 <- glm(OUTPUT ~ AGE,                          # Variable 'output' vs todas las variables\n",
    "                   data = heart_train,                     # Fuente de datos \n",
    "                    family =   binomial(\"logit\"))          # Tipo de modelo "
   ]
  },
  {
   "cell_type": "code",
   "execution_count": 42,
   "metadata": {
    "collapsed": false
   },
   "outputs": [
    {
     "data": {
      "text/plain": [
       "\n",
       "Call:\n",
       "glm(formula = OUTPUT ~ AGE, family = binomial(\"logit\"), data = heart_train)\n",
       "\n",
       "Deviance Residuals: \n",
       "    Min       1Q   Median       3Q      Max  \n",
       "-1.5027  -1.0691  -0.8435   1.2061   1.6759  \n",
       "\n",
       "Coefficients:\n",
       "            Estimate Std. Error z value Pr(>|z|)   \n",
       "(Intercept) -2.71136    0.86348  -3.140  0.00169 **\n",
       "AGE          0.04539    0.01552   2.925  0.00344 **\n",
       "---\n",
       "Signif. codes:  0 ‘***’ 0.001 ‘**’ 0.01 ‘*’ 0.05 ‘.’ 0.1 ‘ ’ 1\n",
       "\n",
       "(Dispersion parameter for binomial family taken to be 1)\n",
       "\n",
       "    Null deviance: 315.90  on 229  degrees of freedom\n",
       "Residual deviance: 306.89  on 228  degrees of freedom\n",
       "AIC: 310.89\n",
       "\n",
       "Number of Fisher Scoring iterations: 4\n"
      ]
     },
     "metadata": {},
     "output_type": "display_data"
    }
   ],
   "source": [
    "## Resumen modelo solo incluyendo edad\n",
    "\n",
    "summary(heart_model2)"
   ]
  },
  {
   "cell_type": "markdown",
   "metadata": {},
   "source": [
    "Tenga en cuenta que el valor de AIC de este modelo más simple es mayor que lo que se obtuvo con el modelo completo, por lo que se espera que este modelo simple tenga menor rendimiento."
   ]
  },
  {
   "cell_type": "code",
   "execution_count": 44,
   "metadata": {
    "collapsed": false
   },
   "outputs": [
    {
     "data": {
      "text/html": [
       "0.88695652173913"
      ],
      "text/latex": [
       "0.88695652173913"
      ],
      "text/markdown": [
       "0.88695652173913"
      ],
      "text/plain": [
       "[1] 0.8869565"
      ]
     },
     "metadata": {},
     "output_type": "display_data"
    }
   ],
   "source": [
    "## Rendimiento del modelo\n",
    "\n",
    "train_predictions       <- predict(heart_model,                      # Modelo obtenido \n",
    "                                     newdata = heart_train,          # Datos de entrenamiento\n",
    "                                       type = \"response\")\n",
    "\n",
    "train_class_predictions <- as.numeric(train_predictions > 0.5)       # Valores mayores a 0.5\n",
    "\n",
    "mean(train_class_predictions == heart_train$OUTPUT)                  # Metrica de precision con la media\n"
   ]
  },
  {
   "cell_type": "code",
   "execution_count": 45,
   "metadata": {
    "collapsed": false
   },
   "outputs": [
    {
     "data": {
      "text/html": [
       "0.775"
      ],
      "text/latex": [
       "0.775"
      ],
      "text/markdown": [
       "0.775"
      ],
      "text/plain": [
       "[1] 0.775"
      ]
     },
     "metadata": {},
     "output_type": "display_data"
    }
   ],
   "source": [
    "## Prediccion del modelo\n",
    "\n",
    "test_predictions       <-  predict(heart_model,                      # Modelo\n",
    "                                    newdata = heart_test,            # COnjunto de datos de prueba\n",
    "                                     type = \"response\")\n",
    "\n",
    "test_class_predictions <-  as.numeric(test_predictions > 0.5)        # Valores predichos mayores a 0.5\n",
    "\n",
    "mean(test_class_predictions == heart_test$OUTPUT)                    # Precision\n"
   ]
  },
  {
   "cell_type": "markdown",
   "metadata": {},
   "source": [
    "Las precisiones de clasificación en los conjuntos de entrenamiento y prueba son similares. La resultados de los coeficientes en el modelo  mostró que varias variables no parecen ser significativas, y también existe un grado de colinealidad que significa que ahora se puede proceder con la selección de variables y posiblemente buscar más características, ya sea a través de la computación o la obtención de datos adicionales de los pacientes."
   ]
  },
  {
   "cell_type": "markdown",
   "metadata": {},
   "source": [
    "**Regularización LASSO** Se utilizará el paquete `glmnet()` para realizar la regularización que busca eliminar algunas de las variables y evaluar los resultados. En primer lugar, se va a entrenar una serie de modelos regularizados con `glmnet()` y luego se utilizará `cv.glmnet()` para estimar un valor adecuado para $λ$. Luego, se examina  los coeficientes del  modelo regularizado usando este $λ$:"
   ]
  },
  {
   "cell_type": "code",
   "execution_count": 46,
   "metadata": {
    "collapsed": false
   },
   "outputs": [
    {
     "data": {
      "text/html": [
       "0.0118110676394006"
      ],
      "text/latex": [
       "0.0118110676394006"
      ],
      "text/markdown": [
       "0.0118110676394006"
      ],
      "text/plain": [
       "[1] 0.01181107"
      ]
     },
     "metadata": {},
     "output_type": "display_data"
    },
    {
     "data": {
      "text/plain": [
       "19 x 1 sparse Matrix of class \"dgCMatrix\"\n",
       "                       1\n",
       "(Intercept) -4.702476656\n",
       "AGE          .          \n",
       "SEX          0.982354604\n",
       "CHESTPAIN2   0.050583269\n",
       "CHESTPAIN3   .          \n",
       "CHESTPAIN4   1.481502102\n",
       "RESTBP       0.012612051\n",
       "CHOL         0.003912907\n",
       "SUGAR       -0.536400517\n",
       "ECG1         .          \n",
       "ECG2         0.321026773\n",
       "MAXHR       -0.010563953\n",
       "ANGINA       0.795431862\n",
       "DEP          0.213059195\n",
       "EXERCISE2    0.320076517\n",
       "EXERCISE3    0.012296570\n",
       "FLUOR        0.925047313\n",
       "THAL6        0.066580841\n",
       "THAL7        1.484011300"
      ]
     },
     "metadata": {},
     "output_type": "display_data"
    }
   ],
   "source": [
    "## Definicion de varibles y modelo \n",
    "\n",
    "heart_train_mat    <- model.matrix(OUTPUT ~ ., heart_train)[,-1]     # datos de entrenamiento\n",
    "lambdas            <- 10 ^ seq(8, -4, length = 250)                  # valored para los Lambdas          \n",
    "\n",
    "heart_models_lasso <- glmnet(heart_train_mat,                        # Modelo\n",
    "                             heart_train$OUTPUT, alpha = 1, \n",
    "                             lambda = lambdas,                       # lambdas para el modelo  \n",
    "                             family = \"binomial\")                    # Tipo de modelo  \n",
    "\n",
    "\n",
    "lasso.cv           <- cv.glmnet(heart_train_mat,                     # datos de entrenamiento\n",
    "                              heart_train$OUTPUT,                    # salida de los datos de entrenamiento\n",
    "                              alpha = 1,                      \n",
    "                              lambda = lambdas,                      # lambdas para el modelo\n",
    "                              family = \"binomial\")                   # tipo de modelo \n",
    " \n",
    "lambda_lasso       <- lasso.cv$lambda.min                            # lambda estimado\n",
    "lambda_lasso\n",
    "\n",
    "\n",
    "predict(heart_models_lasso,                                          # predicion del modelo con lambda estimado\n",
    "        type = \"coefficients\", \n",
    "        s = lambda_lasso)"
   ]
  },
  {
   "cell_type": "markdown",
   "metadata": {},
   "source": [
    "Se observa que algunas variables de han sido eliminadas del modelo porque sus coeficientes son cero. Si ahora se utiliza este modelo para medir la exactitud de clasificación en los conjuntos de entrenamiento y prueba, se puede esperar en ambos casos un rendimiento ligeramente mejor."
   ]
  },
  {
   "cell_type": "code",
   "execution_count": 47,
   "metadata": {
    "collapsed": false
   },
   "outputs": [
    {
     "data": {
      "text/html": [
       "0.891304347826087"
      ],
      "text/latex": [
       "0.891304347826087"
      ],
      "text/markdown": [
       "0.891304347826087"
      ],
      "text/plain": [
       "[1] 0.8913043"
      ]
     },
     "metadata": {},
     "output_type": "display_data"
    },
    {
     "data": {
      "text/html": [
       "0.775"
      ],
      "text/latex": [
       "0.775"
      ],
      "text/markdown": [
       "0.775"
      ],
      "text/plain": [
       "[1] 0.775"
      ]
     },
     "metadata": {},
     "output_type": "display_data"
    }
   ],
   "source": [
    "## Auste y predicción del modelo con la regularización lasso\n",
    "\n",
    "lasso_train_predictions       <- predict(heart_models_lasso, \n",
    "                                           s = lambda_lasso, \n",
    "                                           newx = heart_train_mat,\n",
    "                                           type = \"response\")\n",
    "\n",
    "lasso_train_class_predictions <- as.numeric(lasso_train_predictions > 0.5)\n",
    "\n",
    "mean(lasso_train_class_predictions == heart_train$OUTPUT)                    # Porcentaje de acierto entrenamiento\n",
    "\n",
    "heart_test_mat                <- model.matrix(OUTPUT ~ ., \n",
    "                                              heart_test)[,-1]\n",
    "\n",
    "lasso_test_predictions       <- predict(heart_models_lasso,  \n",
    "                                          s = lambda_lasso, \n",
    "                                          newx = heart_test_mat,\n",
    "                                          type = \"response\")\n",
    "\n",
    "lasso_test_class_predictions <- as.numeric(lasso_test_predictions > 0.5)\n",
    "\n",
    "mean(lasso_test_class_predictions == heart_test$OUTPUT)                       # Porcentaje de acierto predicción\n"
   ]
  },
  {
   "cell_type": "markdown",
   "metadata": {},
   "source": [
    "---\n"
   ]
  },
  {
   "cell_type": "markdown",
   "metadata": {},
   "source": [
    "**Ejercicio.--** El conjunto de datos llamado ***dataRL.txt*** contiene información sobre los sobrevivientes del Titanic.\n",
    "Construya un modelo de regresión logistica donde tilice la variable binaria **Survived** contra las otras variables para predecir con estas caracteristicas si hubo o no sobreviviente. Una vez construido el modelo extraiga variables del modelo para buscar un mejor rendimiento de este y/o realice el proceso de regularización.\n",
    "\n",
    "Utilice un 70% de los datos para ajuste y 30% para validación del modelo."
   ]
  },
  {
   "cell_type": "code",
   "execution_count": null,
   "metadata": {
    "collapsed": true
   },
   "outputs": [],
   "source": []
  },
  {
   "cell_type": "markdown",
   "metadata": {},
   "source": [
    "---\n"
   ]
  },
  {
   "cell_type": "markdown",
   "metadata": {},
   "source": [
    "[Contenido](#Contenido)\n"
   ]
  }
 ],
 "metadata": {
  "anaconda-cloud": {},
  "kernelspec": {
   "display_name": "R",
   "language": "R",
   "name": "ir"
  },
  "language_info": {
   "codemirror_mode": "r",
   "file_extension": ".r",
   "mimetype": "text/x-r-source",
   "name": "R",
   "pygments_lexer": "r",
   "version": "3.3.2"
  }
 },
 "nbformat": 4,
 "nbformat_minor": 0
}
