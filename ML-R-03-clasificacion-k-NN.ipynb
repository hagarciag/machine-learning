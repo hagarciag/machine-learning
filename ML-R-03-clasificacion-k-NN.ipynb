{
 "cells": [
  {
   "cell_type": "markdown",
   "metadata": {},
   "source": [
    "# Aprendizaje de maquinas  -- R -- Clasificación usando k-Vecinos Cercanos (k-Nearest Neighbors).\n",
    "Notas de clase sobre aprendizaje de maquinas usando R"
   ]
  },
  {
   "cell_type": "markdown",
   "metadata": {},
   "source": [
    "**Juan David Velásquez Henao**   \n",
    "jdvelasq@unal.edu.co  \n",
    "Universidad Nacional de Colombia, Sede Medellín  \n",
    "Facultad de Minas  \n",
    "Medellín, Colombia  \n",
    "\n",
    "[Licencia]\n",
    "\n",
    "[Readme]"
   ]
  },
  {
   "cell_type": "markdown",
   "metadata": {},
   "source": [
    "**Software utilizado**.\n",
    "\n",
    "> Este es un documento interactivo escrito como un notebook de [Jupyter](http://jupyter.org), en el cual se presenta un tutorial sobre regresión logistica usando **R** en el contexto de aprendizaje de maquinas. Los notebooks de Jupyter permiten incoporar simultáneamente código, texto, gráficos y ecuaciones. El código presentado en este notebook puede ejecutarse en los sistemas operativos Linux y OS X.\n",
    "\n",
    "> Haga click [aquí](https://github.com/jdvelasq/guias-de-instalacion) para obtener instrucciones detalladas sobre como instalar Jupyter en Windows y Mac OS X.\n",
    "\n",
    "> Haga clic [aquí] para ver la última versión de este documento en nbviewer.\n",
    "\n",
    "> Descargue la última versión de este documento a su disco duro; luego, carguelo y ejecutelo en línea en [Try Jupyter!](https://try.jupyter.org)\n",
    "\n",
    "> Haga clic [aquí](https://github.com/jdvelasq/ETVL-R/blob/master/ETVL-R-5-visualizacion-1-base.ipynb) para ver el tutorial de visualización y gráficas."
   ]
  },
  {
   "cell_type": "markdown",
   "metadata": {},
   "source": [
    "#### Contenido"
   ]
  },
  {
   "cell_type": "markdown",
   "metadata": {},
   "source": [
    "> * [Introducción](#Introducción)\n",
    "* [k-Vecinos más Cercanos k-NN](#k-Vecinos-más-Cercanos-k-NN)\n",
    "    * [Aplicación Iris](#Aplicación-Iris) \n",
    "    * [Aplicación Ozone](#Aplicación-Ozone)\n"
   ]
  },
  {
   "cell_type": "markdown",
   "metadata": {},
   "source": [
    "**Bibliografía**.\n",
    "\n",
    ">  \n",
    "\n",
    "**Material complementario.**\n",
    "> Webinar RStudio [Getting your data into R](https://www.rstudio.com/resources/webinars/getting-your-data-into-r/) \n",
    "\n",
    "---\n",
    "\n"
   ]
  },
  {
   "cell_type": "markdown",
   "metadata": {},
   "source": [
    "# Introducción\n",
    "[Contenido](#Contenido)\n",
    "\n",
    "El problema de clasificación consiste en predecir una clase desconocida a la que pertenece una observación a través de un algoritmo clasificador construido utilizando un conjunto de datos en donde la clase se conoce de antemano.\n",
    "\n",
    "Por ejemplo, suponga que ha recolectado datos acerca de los hábitos de salud en la ciudad de Medellín para una polación homogenea, donde para la mitad de la muestra se sabe sí han desarrollado cierto tipo de enfermedad en una ventana de tiempo. \n",
    "Para la otra mitad la cual no se tiene información se busca predecir si presentarán dicha enfermedad a partir de sus características y similitudes con la población que sí presentó dicha enferemedad. Una de las técnicas que se pueden utilizar para este tipo de problemas es k-Nearest Neighbors (k-NN)"
   ]
  },
  {
   "cell_type": "markdown",
   "metadata": {},
   "source": [
    "# k-Vecinos más cercanos k-NN"
   ]
  },
  {
   "cell_type": "markdown",
   "metadata": {},
   "source": [
    "[Contenido](#Contenido)"
   ]
  },
  {
   "cell_type": "markdown",
   "metadata": {},
   "source": [
    "Utilizando el mismo concepto de matriz de distancias que se introdujo en el Notebook de Métodos de Clustering, usado por el método k-Means, k-NN selecciona un número pre-definido de observaciones cercanas a otras (vecinos) para clasificar.\n",
    "\n",
    "En este método, tanto los atributos como la variable respuesta pueden ser categóricos o numéricos.\n",
    "\n",
    "El método predice la clasificación de una observación desconocida como la mayoría de los *votos* de los vecinos, es decir, la clase más frecuente entre las k observaciones más cercanas. Esto quiere decir que la clasificación dependerán del número de vecinos que se escoge a través de la matriz de distancias.\n",
    "\n",
    "<img src=\"images/knn.png\" height=\"500\" width=\"400\">\n",
    "\n",
    "Dentro de este cápitulo, siempre asuma medidas euclidianas a no ser que se especifique lo contario."
   ]
  },
  {
   "cell_type": "markdown",
   "metadata": {},
   "source": [
    "## Aplicación Iris\n",
    "[Contenido](#Contenido)\n",
    "\n",
    "En este ejemplo realice la clasificación de la base de datos iris a través de este métodos. Los datos contienen 3 clases con 50 diferentes observaciones donde cada una se refiere a una clase diferente de planta iris. El objetivo es predicir la clase de tipo de planta.\n",
    "\n",
    "Para esto primero calcule la matriz de distancias de los atributos de la data de iris."
   ]
  },
  {
   "cell_type": "markdown",
   "metadata": {},
   "source": [
    "> [`reshape2 {reshape2}`](https://cran.r-project.org/web/packages/reshape2/reshape2.pdf) "
   ]
  },
  {
   "cell_type": "code",
   "execution_count": 1,
   "metadata": {
    "collapsed": false
   },
   "outputs": [],
   "source": [
    "## Cargue las librerías necesarias\n",
    "library(reshape2)  "
   ]
  },
  {
   "cell_type": "code",
   "execution_count": 2,
   "metadata": {
    "collapsed": false
   },
   "outputs": [
    {
     "data": {
      "text/html": [
       "<table>\n",
       "<thead><tr><th scope=col>Var1</th><th scope=col>Var2</th><th scope=col>value</th></tr></thead>\n",
       "<tbody>\n",
       "\t<tr><td>1        </td><td>1        </td><td>0.0000000</td></tr>\n",
       "\t<tr><td>2        </td><td>1        </td><td>0.5385165</td></tr>\n",
       "\t<tr><td>3        </td><td>1        </td><td>0.5099020</td></tr>\n",
       "\t<tr><td>4        </td><td>1        </td><td>0.6480741</td></tr>\n",
       "\t<tr><td>5        </td><td>1        </td><td>0.1414214</td></tr>\n",
       "\t<tr><td>6        </td><td>1        </td><td>0.6164414</td></tr>\n",
       "</tbody>\n",
       "</table>\n"
      ],
      "text/latex": [
       "\\begin{tabular}{r|lll}\n",
       " Var1 & Var2 & value\\\\\n",
       "\\hline\n",
       "\t 1         & 1         & 0.0000000\\\\\n",
       "\t 2         & 1         & 0.5385165\\\\\n",
       "\t 3         & 1         & 0.5099020\\\\\n",
       "\t 4         & 1         & 0.6480741\\\\\n",
       "\t 5         & 1         & 0.1414214\\\\\n",
       "\t 6         & 1         & 0.6164414\\\\\n",
       "\\end{tabular}\n"
      ],
      "text/markdown": [
       "\n",
       "Var1 | Var2 | value | \n",
       "|---|---|---|---|---|---|\n",
       "| 1         | 1         | 0.0000000 | \n",
       "| 2         | 1         | 0.5385165 | \n",
       "| 3         | 1         | 0.5099020 | \n",
       "| 4         | 1         | 0.6480741 | \n",
       "| 5         | 1         | 0.1414214 | \n",
       "| 6         | 1         | 0.6164414 | \n",
       "\n",
       "\n"
      ],
      "text/plain": [
       "  Var1 Var2 value    \n",
       "1 1    1    0.0000000\n",
       "2 2    1    0.5385165\n",
       "3 3    1    0.5099020\n",
       "4 4    1    0.6480741\n",
       "5 5    1    0.1414214\n",
       "6 6    1    0.6164414"
      ]
     },
     "metadata": {},
     "output_type": "display_data"
    }
   ],
   "source": [
    "## Cargue los datos  \n",
    "data(iris)                                   # Cargue la data pre-definida en R\n",
    "\n",
    "## Calcule las distancias euclidianas\n",
    "distances   <- dist(iris[1:4],               # Datos sin la variable respuesta\n",
    "                 upper = T,                  # Calcular la diagonal superior de la matriz de distancias\n",
    "                 diag = T)                   # Calcular la diagonal de la matriz de distancias\n",
    "\n",
    "distances.df <- melt(as.matrix(distances))   # Melt: Convierte la matriz en columnas con identificador de filas\n",
    "\n",
    "head(distances.df)                           # Observe la data"
   ]
  },
  {
   "cell_type": "markdown",
   "metadata": {},
   "source": [
    "Calcule las k observaciones más cercanas a cada observación y asigne un valor a cada observación sin clasificar a partir de la mayoría de *votos*."
   ]
  },
  {
   "cell_type": "code",
   "execution_count": 3,
   "metadata": {
    "collapsed": false
   },
   "outputs": [
    {
     "data": {
      "text/html": [
       "<table>\n",
       "<thead><tr><th scope=col>classif</th></tr></thead>\n",
       "<tbody>\n",
       "\t<tr><td>1</td></tr>\n",
       "\t<tr><td>1</td></tr>\n",
       "\t<tr><td>1</td></tr>\n",
       "\t<tr><td>1</td></tr>\n",
       "\t<tr><td>1</td></tr>\n",
       "\t<tr><td>1</td></tr>\n",
       "</tbody>\n",
       "</table>\n"
      ],
      "text/latex": [
       "\\begin{tabular}{r|l}\n",
       " classif\\\\\n",
       "\\hline\n",
       "\t 1\\\\\n",
       "\t 1\\\\\n",
       "\t 1\\\\\n",
       "\t 1\\\\\n",
       "\t 1\\\\\n",
       "\t 1\\\\\n",
       "\\end{tabular}\n"
      ],
      "text/markdown": [
       "\n",
       "classif | \n",
       "|---|---|---|---|---|---|\n",
       "| 1 | \n",
       "| 1 | \n",
       "| 1 | \n",
       "| 1 | \n",
       "| 1 | \n",
       "| 1 | \n",
       "\n",
       "\n"
      ],
      "text/plain": [
       "  classif\n",
       "1 1      \n",
       "2 1      \n",
       "3 1      \n",
       "4 1      \n",
       "5 1      \n",
       "6 1      "
      ]
     },
     "metadata": {},
     "output_type": "display_data"
    },
    {
     "data": {
      "text/html": [
       "<table>\n",
       "<thead><tr><th></th><th scope=col>classif</th></tr></thead>\n",
       "<tbody>\n",
       "\t<tr><th scope=row>145</th><td>3</td></tr>\n",
       "\t<tr><th scope=row>146</th><td>3</td></tr>\n",
       "\t<tr><th scope=row>147</th><td>3</td></tr>\n",
       "\t<tr><th scope=row>148</th><td>3</td></tr>\n",
       "\t<tr><th scope=row>149</th><td>3</td></tr>\n",
       "\t<tr><th scope=row>150</th><td>3</td></tr>\n",
       "</tbody>\n",
       "</table>\n"
      ],
      "text/latex": [
       "\\begin{tabular}{r|l}\n",
       "  & classif\\\\\n",
       "\\hline\n",
       "\t145 & 3\\\\\n",
       "\t146 & 3\\\\\n",
       "\t147 & 3\\\\\n",
       "\t148 & 3\\\\\n",
       "\t149 & 3\\\\\n",
       "\t150 & 3\\\\\n",
       "\\end{tabular}\n"
      ],
      "text/markdown": [
       "\n",
       "| <!--/--> | classif | \n",
       "|---|---|---|---|---|---|\n",
       "| 145 | 3 | \n",
       "| 146 | 3 | \n",
       "| 147 | 3 | \n",
       "| 148 | 3 | \n",
       "| 149 | 3 | \n",
       "| 150 | 3 | \n",
       "\n",
       "\n"
      ],
      "text/plain": [
       "    classif\n",
       "145 3      \n",
       "146 3      \n",
       "147 3      \n",
       "148 3      \n",
       "149 3      \n",
       "150 3      "
      ]
     },
     "metadata": {},
     "output_type": "display_data"
    }
   ],
   "source": [
    "## Establezca los parámetros del k-NN\n",
    "\n",
    "k             <- 5                                               # Número de vecinos\n",
    "N             <- length(levels(as.factor(distances.df$Var2)))    # Longitud de las observaciones\n",
    "Nearest       <- matrix(nrow= N, ncol = k)                       # Matriz N por k\n",
    "level_count   <- length(levels(as.factor(iris[[5]])))            # Longitud del número de clases\n",
    "classif       <- rep(0,N)                                        # Vector de clasificación final\n",
    "\n",
    "## Ciclos para calcular los k-NN\n",
    "\n",
    "for (i in 1:N) {\n",
    "    # Subset de la observación i\n",
    "    temp <- subset(distances.df,                                 # Extrae subconjunto de datos\n",
    "                  Var2 == i)                                     # Observacion i\n",
    "    \n",
    "    # Extraccion de los k vecinos más cercanos\n",
    "    nearest <- unlist(head(temp[order(temp$Var2,temp$value),],   # Ordena los de mayor cercanía con i\n",
    "                          k)[1])                                 # Extrae los k con mayor cercanía\n",
    "    # Obtención de los votos\n",
    "    votes   <- iris[0,5]                                         # Extrae las clasificaciones de todas las observaciones\n",
    "    \n",
    "    for (j in 1:length(nearest)) {\n",
    "        \n",
    "        votes[j]   <- iris[5][nearest[j],]                       # Extrae las clasficaciones de las k más cercanas\n",
    "        \n",
    "        classif[i] <- which.max(table(votes))                    # Obtiene la clase de mayor votos\n",
    "    }\n",
    "}\n",
    "\n",
    "head(as.data.frame(classif))                                         \n",
    "tail(as.data.frame(classif)) "
   ]
  },
  {
   "cell_type": "markdown",
   "metadata": {},
   "source": [
    "A continuación se procede  a probar el desempeño del modelo. Puede observar que únicamente 5 observaciones fueron mal clasificadas de 150. Por lo tanto, es indicio que el modelo tiene un buen desemepeño."
   ]
  },
  {
   "cell_type": "code",
   "execution_count": 4,
   "metadata": {
    "collapsed": false,
    "scrolled": true
   },
   "outputs": [
    {
     "data": {
      "text/plain": [
       "            \n",
       "             setosa versicolor virginica\n",
       "  setosa         50          0         0\n",
       "  versicolor      0         47         3\n",
       "  virginica       0          2        48"
      ]
     },
     "metadata": {},
     "output_type": "display_data"
    },
    {
     "data": {
      "text/html": [
       "<ol class=list-inline>\n",
       "\t<li>'71'</li>\n",
       "\t<li>'73'</li>\n",
       "\t<li>'84'</li>\n",
       "\t<li>'107'</li>\n",
       "\t<li>'120'</li>\n",
       "</ol>\n"
      ],
      "text/latex": [
       "\\begin{enumerate*}\n",
       "\\item '71'\n",
       "\\item '73'\n",
       "\\item '84'\n",
       "\\item '107'\n",
       "\\item '120'\n",
       "\\end{enumerate*}\n"
      ],
      "text/markdown": [
       "1. '71'\n",
       "2. '73'\n",
       "3. '84'\n",
       "4. '107'\n",
       "5. '120'\n",
       "\n",
       "\n"
      ],
      "text/plain": [
       "[1] \"71\"  \"73\"  \"84\"  \"107\" \"120\""
      ]
     },
     "metadata": {},
     "output_type": "display_data"
    }
   ],
   "source": [
    "## Convierta las clases 1,2,3 a tipo de planta iris\n",
    "\n",
    "iris$Species_class[classif == 1] = \"setosa\"\n",
    "iris$Species_class[classif == 2] = \"versicolor\"\n",
    "iris$Species_class[classif == 3] = \"virginica\"\n",
    "\n",
    "## Matriz de confusión\n",
    "\n",
    "table(iris$Species,iris$Species_class)\n",
    "\n",
    "## Observaciones mal clasificadas\n",
    "\n",
    "rownames(iris)[iris$Species != iris$Species_class]"
   ]
  },
  {
   "cell_type": "markdown",
   "metadata": {},
   "source": [
    "## Aplicación Ozone\n",
    "[Contenido](#Contenido)\n",
    "\n",
    "En este ejemplo, utilizará el método de validación cruzada dejando uno afuera. Para esto, llame a la función `knn.cv()` incluida en el paquete *`class`* donde iterativamente se dejará una observación afuera para evaluación y el resto para entrenamiento.\n",
    "\n",
    "En este ejemplo, se utilizarán los datos de *Ozone* el cual contiene 13 atributos y 366 observaciones de mediciones diarias  de calidad de aire."
   ]
  },
  {
   "cell_type": "markdown",
   "metadata": {},
   "source": [
    "\n",
    "> [` mlbench{mlbench}`](https://cran.r-project.org/web/packages/mlbench/mlbench.pdf) \n",
    "\n",
    "> [`class {class}`](https://cran.r-project.org/web/packages/class/class.pdf) "
   ]
  },
  {
   "cell_type": "code",
   "execution_count": 5,
   "metadata": {
    "collapsed": false
   },
   "outputs": [],
   "source": [
    "## Instale y cargue las librerías necesarias\n",
    "library(mlbench)           \n",
    "library(class)             "
   ]
  },
  {
   "cell_type": "code",
   "execution_count": 6,
   "metadata": {
    "collapsed": false
   },
   "outputs": [
    {
     "data": {
      "text/html": [
       "<table>\n",
       "<thead><tr><th></th><th scope=col>V1</th><th scope=col>V2</th><th scope=col>V3</th><th scope=col>V4</th><th scope=col>V5</th><th scope=col>V6</th><th scope=col>V7</th><th scope=col>V8</th><th scope=col>V9</th><th scope=col>V10</th><th scope=col>V11</th><th scope=col>V12</th><th scope=col>V13</th></tr></thead>\n",
       "<tbody>\n",
       "\t<tr><th scope=row>5</th><td>1    </td><td>5    </td><td>1    </td><td>5    </td><td>5760 </td><td>3    </td><td>51   </td><td>54   </td><td>45.32</td><td>1450 </td><td> 25  </td><td>57.02</td><td> 60  </td></tr>\n",
       "\t<tr><th scope=row>6</th><td>1    </td><td>6    </td><td>2    </td><td>6    </td><td>5720 </td><td>4    </td><td>69   </td><td>35   </td><td>49.64</td><td>1568 </td><td> 15  </td><td>53.78</td><td> 60  </td></tr>\n",
       "\t<tr><th scope=row>7</th><td>1    </td><td>7    </td><td>3    </td><td>4    </td><td>5790 </td><td>6    </td><td>19   </td><td>45   </td><td>46.40</td><td>2631 </td><td>-33  </td><td>54.14</td><td>100  </td></tr>\n",
       "\t<tr><th scope=row>8</th><td>1    </td><td>8    </td><td>4    </td><td>4    </td><td>5790 </td><td>3    </td><td>25   </td><td>55   </td><td>52.70</td><td> 554 </td><td>-28  </td><td>64.76</td><td>250  </td></tr>\n",
       "\t<tr><th scope=row>9</th><td>1    </td><td>9    </td><td>5    </td><td>6    </td><td>5700 </td><td>3    </td><td>73   </td><td>41   </td><td>48.02</td><td>2083 </td><td> 23  </td><td>52.52</td><td>120  </td></tr>\n",
       "\t<tr><th scope=row>12</th><td>1    </td><td>12   </td><td>1    </td><td>6    </td><td>5720 </td><td>3    </td><td>44   </td><td>51   </td><td>54.32</td><td> 111 </td><td>  9  </td><td>63.14</td><td>150  </td></tr>\n",
       "</tbody>\n",
       "</table>\n"
      ],
      "text/latex": [
       "\\begin{tabular}{r|lllllllllllll}\n",
       "  & V1 & V2 & V3 & V4 & V5 & V6 & V7 & V8 & V9 & V10 & V11 & V12 & V13\\\\\n",
       "\\hline\n",
       "\t5 & 1     & 5     & 1     & 5     & 5760  & 3     & 51    & 54    & 45.32 & 1450  &  25   & 57.02 &  60  \\\\\n",
       "\t6 & 1     & 6     & 2     & 6     & 5720  & 4     & 69    & 35    & 49.64 & 1568  &  15   & 53.78 &  60  \\\\\n",
       "\t7 & 1     & 7     & 3     & 4     & 5790  & 6     & 19    & 45    & 46.40 & 2631  & -33   & 54.14 & 100  \\\\\n",
       "\t8 & 1     & 8     & 4     & 4     & 5790  & 3     & 25    & 55    & 52.70 &  554  & -28   & 64.76 & 250  \\\\\n",
       "\t9 & 1     & 9     & 5     & 6     & 5700  & 3     & 73    & 41    & 48.02 & 2083  &  23   & 52.52 & 120  \\\\\n",
       "\t12 & 1     & 12    & 1     & 6     & 5720  & 3     & 44    & 51    & 54.32 &  111  &   9   & 63.14 & 150  \\\\\n",
       "\\end{tabular}\n"
      ],
      "text/markdown": [
       "\n",
       "| <!--/--> | V1 | V2 | V3 | V4 | V5 | V6 | V7 | V8 | V9 | V10 | V11 | V12 | V13 | \n",
       "|---|---|---|---|---|---|\n",
       "| 5 | 1     | 5     | 1     | 5     | 5760  | 3     | 51    | 54    | 45.32 | 1450  |  25   | 57.02 |  60   | \n",
       "| 6 | 1     | 6     | 2     | 6     | 5720  | 4     | 69    | 35    | 49.64 | 1568  |  15   | 53.78 |  60   | \n",
       "| 7 | 1     | 7     | 3     | 4     | 5790  | 6     | 19    | 45    | 46.40 | 2631  | -33   | 54.14 | 100   | \n",
       "| 8 | 1     | 8     | 4     | 4     | 5790  | 3     | 25    | 55    | 52.70 |  554  | -28   | 64.76 | 250   | \n",
       "| 9 | 1     | 9     | 5     | 6     | 5700  | 3     | 73    | 41    | 48.02 | 2083  |  23   | 52.52 | 120   | \n",
       "| 12 | 1     | 12    | 1     | 6     | 5720  | 3     | 44    | 51    | 54.32 |  111  |   9   | 63.14 | 150   | \n",
       "\n",
       "\n"
      ],
      "text/plain": [
       "   V1 V2 V3 V4 V5   V6 V7 V8 V9    V10  V11 V12   V13\n",
       "5  1  5  1  5  5760 3  51 54 45.32 1450  25 57.02  60\n",
       "6  1  6  2  6  5720 4  69 35 49.64 1568  15 53.78  60\n",
       "7  1  7  3  4  5790 6  19 45 46.40 2631 -33 54.14 100\n",
       "8  1  8  4  4  5790 3  25 55 52.70  554 -28 64.76 250\n",
       "9  1  9  5  6  5700 3  73 41 48.02 2083  23 52.52 120\n",
       "12 1  12 1  6  5720 3  44 51 54.32  111   9 63.14 150"
      ]
     },
     "metadata": {},
     "output_type": "display_data"
    }
   ],
   "source": [
    "## Cargue y prepare los datos\n",
    "\n",
    "data(Ozone)                 # Datos Ozone\n",
    "Oz <- na.omit(Ozone)        # Quite los datos con NA\n",
    "\n",
    "head(Oz)"
   ]
  },
  {
   "cell_type": "markdown",
   "metadata": {},
   "source": [
    "Para propositos del estudio, codifique aquellas obseraciones que se calcularon entre Abril y Septiembre como 1 y el resto 0. Existen 92 observaciones entre Abril y Septiembre."
   ]
  },
  {
   "cell_type": "code",
   "execution_count": 7,
   "metadata": {
    "collapsed": true
   },
   "outputs": [],
   "source": [
    "## Recodificación de Mes de Captura\n",
    "\n",
    "Oz$AprilToSeptember <- rep(0,length(Oz[,1]))                                 # Crea columna nueva rellena con 0\n",
    "\n",
    "Oz$AprilToSeptember[as.numeric(Oz[[1]])>=4 & as.numeric(Oz[[1]])<=9] = 1    # Si el mes se encuentra entre 4 y 9, coloque 1"
   ]
  },
  {
   "cell_type": "markdown",
   "metadata": {},
   "source": [
    "Para observar la importancia de la validación cruzada, estime primero el modelo sin mejoramiento y luego estimelo con cross validation."
   ]
  },
  {
   "cell_type": "code",
   "execution_count": 8,
   "metadata": {
    "collapsed": false,
    "scrolled": true
   },
   "outputs": [
    {
     "data": {
      "text/plain": [
       "   \n",
       "     0  1\n",
       "  0 93 20\n",
       "  1 18 72"
      ]
     },
     "metadata": {},
     "output_type": "display_data"
    }
   ],
   "source": [
    "## Clasificacion con modelo knn sin CV\n",
    "Oz$classif <- knn(Oz[2:13],     # Features de la data\n",
    "                 Oz[2:13],      # Features de la data\n",
    "                 Oz[[14]],      # Target de la data\n",
    "                 4)             # k=4\n",
    "\n",
    "## Matriz de Confusión\n",
    "table(Oz$classif,               # Predicciones por knn\n",
    "      Oz[[14]])                 # Valores reales"
   ]
  },
  {
   "cell_type": "markdown",
   "metadata": {},
   "source": [
    "Ahora se estima con leave-one-out cross validation."
   ]
  },
  {
   "cell_type": "code",
   "execution_count": 9,
   "metadata": {
    "collapsed": false
   },
   "outputs": [
    {
     "data": {
      "text/plain": [
       "   \n",
       "     0  1\n",
       "  0 79 28\n",
       "  1 32 64"
      ]
     },
     "metadata": {},
     "output_type": "display_data"
    }
   ],
   "source": [
    "## Modelo knn con validación cruzada.\n",
    "\n",
    "Oz$classif2 <- knn.cv(Oz[2:13],# Features de la data\n",
    "                     Oz[[14]], # Target de la data\n",
    "                     4)        # k=4\n",
    "\n",
    "## Matriz de Confusión\n",
    "table(Oz$classif2,             # Predicciones por knn\n",
    "      Oz[[14]])                # Valores reales"
   ]
  },
  {
   "cell_type": "markdown",
   "metadata": {},
   "source": [
    "Note que aunque se realizó la validación cruzada dejando uno afuera, el porcentaje de clasificaciones erroeneas aumentó. Para mejorar esto, se utiliza un algoritmo que seleccione de forma óptima el k.\n",
    "\n",
    "Una forma simple de estimar k es la raíz cuadrada del número de observaciones, no obstante, no siempre arroja los mejores resultados. Para esto, se escoge k de tal forma que maximice cierta medida de desempeño a través de una búsqueda iterativa. En este ejemplo, se busca máximar la precisión."
   ]
  },
  {
   "cell_type": "code",
   "execution_count": 10,
   "metadata": {
    "collapsed": false
   },
   "outputs": [
    {
     "data": {
      "text/html": [
       "3"
      ],
      "text/latex": [
       "3"
      ],
      "text/markdown": [
       "3"
      ],
      "text/plain": [
       "[1] 3"
      ]
     },
     "metadata": {},
     "output_type": "display_data"
    }
   ],
   "source": [
    "## Vector de precisiones\n",
    "Accur <- rep(0,20)                                     # Incialice el vector\n",
    "\n",
    "## Ciclo para calcular la precisión\n",
    "for (i in 1:20) {\n",
    "    classification = knn.cv(Oz[2:13],Oz[[14]], i)      # Modelo knn.cv con k=i\n",
    "    Accur[i] = sum(classification == Oz[[14]])/203     # Precisión del modelo con k=i\n",
    "}\n",
    "\n",
    "## Calcule el máximo k\n",
    "which.max(Accur)"
   ]
  },
  {
   "cell_type": "markdown",
   "metadata": {},
   "source": [
    "Por lo tanto, el k de vecinos cercanos que maximiza la precisión es 3."
   ]
  },
  {
   "cell_type": "code",
   "execution_count": 11,
   "metadata": {
    "collapsed": false
   },
   "outputs": [
    {
     "data": {
      "text/plain": [
       "   \n",
       "     0  1\n",
       "  0 92 12\n",
       "  1 19 80"
      ]
     },
     "metadata": {},
     "output_type": "display_data"
    }
   ],
   "source": [
    "# Modelo knn = 3\n",
    "Oz$classif3 <- knn(Oz[2:13],     # Features de la data\n",
    "                 Oz[2:13],       # Features de la data\n",
    "                 Oz[[14]],       # Target de la data\n",
    "                 3)              # k=4\n",
    "\n",
    "# Matriz de Confusión\n",
    "table(Oz$classif3,               # Predicciones por knn\n",
    "      Oz[[14]])                  # Valores reales"
   ]
  },
  {
   "cell_type": "markdown",
   "metadata": {},
   "source": [
    "---"
   ]
  },
  {
   "cell_type": "markdown",
   "metadata": {},
   "source": [
    "**Ejercicio.--** Utilice la base de datos de carros que provee UCI Machine Learning data sets para realizar un modelo de k-Vecinos más Cercanos para predecir la aceptabilidad del carro. Recuerde realizar medidas de desempeño y determinar el k óptimo dependidendo de la medida que considere más importante.\n",
    "\n",
    "[Datos](https://archive.ics.uci.edu/ml/machine-learning-databases/car/car.data)"
   ]
  },
  {
   "cell_type": "code",
   "execution_count": null,
   "metadata": {
    "collapsed": true
   },
   "outputs": [],
   "source": []
  },
  {
   "cell_type": "markdown",
   "metadata": {},
   "source": [
    "---"
   ]
  },
  {
   "cell_type": "markdown",
   "metadata": {},
   "source": [
    "**Ejercicio.--**  Se cuentan con los datos de los crimenes de la ciudad de  San Francisco y se busca realizar un modelo de clasificación para la categoría del incidente crimen a partir de las variables dadas.\n",
    "\n",
    "El modelo de k-Vecinos más Cercanos se ajusta a lo que necesita. Por lo tanto, realice el ajuste del modelo con una validación cruzada para mejorar la precisión, encontrar el k óptimo y medidas de evaluación para tomar una decisión mas acertada.\n",
    "\n",
    "[Datos](https://drive.google.com/file/d/0B4psHlllKLPUczdFWVE2YTFNTEk/view?usp=sharing)"
   ]
  },
  {
   "cell_type": "code",
   "execution_count": null,
   "metadata": {
    "collapsed": true
   },
   "outputs": [],
   "source": []
  },
  {
   "cell_type": "markdown",
   "metadata": {},
   "source": [
    "---"
   ]
  },
  {
   "cell_type": "markdown",
   "metadata": {},
   "source": [
    "[Contenido](#Contenido)\n"
   ]
  }
 ],
 "metadata": {
  "anaconda-cloud": {},
  "kernelspec": {
   "display_name": "R",
   "language": "R",
   "name": "ir"
  },
  "language_info": {
   "codemirror_mode": "r",
   "file_extension": ".r",
   "mimetype": "text/x-r-source",
   "name": "R",
   "pygments_lexer": "r",
   "version": "3.3.2"
  }
 },
 "nbformat": 4,
 "nbformat_minor": 0
}
