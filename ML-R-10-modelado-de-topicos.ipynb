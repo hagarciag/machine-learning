{
 "cells": [
  {
   "cell_type": "markdown",
   "metadata": {},
   "source": [
    "# Aprendizaje de maquinas  -- R -- Modelado de tópicos\n",
    "Notas de clase sobre aprendizaje de maquinas usando R"
   ]
  },
  {
   "cell_type": "markdown",
   "metadata": {},
   "source": [
    "**Juan David Velásquez Henao**   \n",
    "jdvelasq@unal.edu.co  \n",
    "Universidad Nacional de Colombia, Sede Medellín  \n",
    "Facultad de Minas  \n",
    "Medellín, Colombia  \n",
    "\n",
    "[Licencia]\n",
    "\n",
    "[Readme]"
   ]
  },
  {
   "cell_type": "markdown",
   "metadata": {},
   "source": [
    "**Software utilizado**.\n",
    "\n",
    "> Este es un documento interactivo escrito como un notebook de [Jupyter](http://jupyter.org), en el cual se presenta un tutorial sobre regresión logistica usando **R** en el contexto de aprendizaje de maquinas. Los notebooks de Jupyter permiten incoporar simultáneamente código, texto, gráficos y ecuaciones. El código presentado en este notebook puede ejecutarse en los sistemas operativos Linux y OS X.\n",
    "\n",
    "> Haga click [aquí](https://github.com/jdvelasq/guias-de-instalacion) para obtener instrucciones detalladas sobre como instalar Jupyter en Windows y Mac OS X.\n",
    "\n",
    "> Haga clic [aquí] para ver la última versión de este documento en nbviewer.\n",
    "\n",
    "> Descargue la última versión de este documento a su disco duro; luego, carguelo y ejecutelo en línea en [Try Jupyter!](https://try.jupyter.org)\n",
    "\n",
    "> Haga clic [aquí](https://github.com/jdvelasq/ETVL-R/blob/master/ETVL-R-5-visualizacion-1-base.ipynb) para ver el tutorial de visualización y gráficas."
   ]
  },
  {
   "cell_type": "markdown",
   "metadata": {},
   "source": [
    "#### Contenido"
   ]
  },
  {
   "cell_type": "markdown",
   "metadata": {},
   "source": [
    ">* [Introducción](#Introducción)\n",
    "* [LDA](#LDA)\n",
    "    * [Especificación  y estimación del modelo](#Especificación-y-estimación-del-modelo)\n",
    "* [Aplicación 1](#Aplicación-1)\n",
    "* [Aplicación 2](#Aplicación-2)\n",
    "\n"
   ]
  },
  {
   "cell_type": "markdown",
   "metadata": {},
   "source": [
    "**Bibliografía**.\n",
    "\n",
    "> \n",
    "\n",
    "**Material complementario.**\n",
    "> Webinar RStudio [Getting your data into R](https://www.rstudio.com/resources/webinars/getting-your-data-into-r/) \n",
    "\n",
    "---\n",
    "\n"
   ]
  },
  {
   "cell_type": "markdown",
   "metadata": {},
   "source": [
    "# Introducción\n",
    "[Contenido](#Contenido)"
   ]
  },
  {
   "cell_type": "markdown",
   "metadata": {
    "collapsed": true
   },
   "source": [
    "El modelado de tópicos es un área relativamente reciente que se originó en los campos de procesamiento del lenguaje natural y la recuperación de información, pero tambien ha sido aplicado en una serie de otros dominios. Muchos problemas de  clasificación, como el análisis del sentimientos, implican asignar una sola clase a una observación particular por otra parte, en el modelado de tópicos la idea es asignar una mezcla de diferentes clases a una observación.\n",
    "\n",
    "Básicamente en este tipo de problema, se tiene un conjunto de características y un conjunto de variables ocultas o latentes que generan estas características. Crucialmente, cada observación en el conjunto datos contiene características que se han generado a partir de una mezcla de un subconjunto de estas variables ocultas. Por ejemplo, un ensayo, un sitio web o un artículo de prensa puede tener un tema central como la política, pero también puede incluir uno o más elementos de otros temas, como los derechos humanos, la historia o la economía.\n",
    "\n",
    "El modelado de tópicos es utilizado de diferentes maneras en la minería de texto. Una posible aplicación es agrupar documentos similares, basados en su tema más predominante, que finalmente, se puede ver como una forma de agrupación. Donde se estudia la composición del tema, las palabras más frecuentes, así como el tamaño relativo de los grupos que se obtienen, y finalmente se resume la información sobre una colección particular de documentos. \n",
    "\n"
   ]
  },
  {
   "cell_type": "markdown",
   "metadata": {},
   "source": [
    "# LDA\n",
    "[Contenido](#Contenido)"
   ]
  },
  {
   "cell_type": "markdown",
   "metadata": {},
   "source": [
    "Hay dos métodos de aprendizaje automático con las iniciales LDA:\n",
    "    1. Asignación de Dirichlet latente, que es un método de modelado\n",
    "    2. Análisis discriminante lineal, que es un método de clasificación\n",
    "    \n",
    "No tienen relación, excepto por el hecho de que las iniciales LDA pueden referirse a cualquiera.\n",
    "\n",
    "LDA pertenece a una clase de modelos que son llamados modelos generativos ya que tienen una especie de fábula, \n",
    "que explica cómo se generaron los datos. Esta historia es generativa a una simplificación de la realidad, por supuesto,\n",
    "para hacer más fácil el aprendizaje de la máquina. En primer lugar crear temas mediante la asignación de los pesos \n",
    "de probabilidad a las palabras. cada tema será asignar diferentes pesos a diferentes palabras.\n",
    "\n",
    "El método usado para ajustar los modelos es el VEM (Variational Expectation-Maximization). Tanto R como Python utilizan este método en sus algoritmos."
   ]
  },
  {
   "cell_type": "markdown",
   "metadata": {},
   "source": [
    "## Especificación  y estimación del modelo\n",
    "[Contenido](#Contenido)"
   ]
  },
  {
   "cell_type": "markdown",
   "metadata": {},
   "source": [
    "Se tiene un número de tópicos $k$ fijado a-priori. El modelo LDA asume que para un documento $w=(w_1,...,w_N)$ de un corpus $D$ que contiene $N$ palabras de un vocabulario con $V$ términos, $w_i \\in \\{1,...,V\\}$ para todo $i=1,...,N$.\n",
    "\n",
    "1. El término de distribución $\\beta$ es determinado para cada tópico por:$\\beta \\sim Dirichlet(\\delta)$\n",
    "2. Las proporciones $\\theta$ del tópico de distibución para el documento $w$ son determinadas por: $\\theta \\sim Dirichlet(\\alpha)$\n",
    "3. Para cada una de la $N$ palabras $w_i$:\n",
    "    + Escoja un tópico $z_i \\sim Multinomial(\\theta)$\n",
    "    + Escoja una palabra $w_i$ desde una distribución de probabilidad multinomial condicionada en el tópico $z_i: p(w_i|z_i , \\beta)$\n",
    "\n",
    "$\\beta$ es el término de distribución de tópicos y contiene la probabilidad de que una palabra ocurra en un tópico dado.\n",
    "\n",
    "<p>Para estimar el modelo LDA se realiza el proceso de estimación de máxima verosimilitud (MLE - Maximum Likelihood Estimation). La suma del logaritmo de las similitudes de todos los documentos se maximiza con respecto a los parámetros $\\alpha$ y $\\beta$. En este caso $\\beta$ es el parámetro de interés. Para un documento $w \\in D$, la estimación está dada por:\n",
    "\n",
    "<img src=\"images/topicmodel.PNG\" width=500>"
   ]
  },
  {
   "cell_type": "markdown",
   "metadata": {},
   "source": [
    "# Aplicación 1\n",
    "[Contenido](#Contenido)\n"
   ]
  },
  {
   "cell_type": "markdown",
   "metadata": {},
   "source": [
    "Los datos corresponden a la Primera Conferencia de Recuperación de Texto (TREC-1) 1992. Es un objeto de la clase `DocumentTermMatrix` proporcionado por el paquete `tm`. Es una matriz que consta de documento-término y contiene 10473 términos en 2246 documentos."
   ]
  },
  {
   "cell_type": "markdown",
   "metadata": {},
   "source": [
    "> [` LDA{topicmodels}`](https://cran.r-project.org/web/packages/topicmodels/topicmodels.pdf) "
   ]
  },
  {
   "cell_type": "code",
   "execution_count": 1,
   "metadata": {
    "collapsed": false
   },
   "outputs": [
    {
     "name": "stderr",
     "output_type": "stream",
     "text": [
      "Warning message:\n",
      ": package 'topicmodels' was built under R version 3.3.2"
     ]
    }
   ],
   "source": [
    "## Instale y cargue las siguientes librerías\n",
    "library(topicmodels)"
   ]
  },
  {
   "cell_type": "code",
   "execution_count": 2,
   "metadata": {
    "collapsed": true
   },
   "outputs": [],
   "source": [
    "## Lectura de los datos\n",
    "data(\"AssociatedPress\",             # Nombre de la base de datos \n",
    "         package = \"topicmodels\")   # Paquete donde extrae los datos\n"
   ]
  },
  {
   "cell_type": "code",
   "execution_count": 3,
   "metadata": {
    "collapsed": false
   },
   "outputs": [
    {
     "data": {
      "text/html": [
       "2246"
      ],
      "text/latex": [
       "2246"
      ],
      "text/markdown": [
       "2246"
      ],
      "text/plain": [
       "[1] 2246"
      ]
     },
     "metadata": {},
     "output_type": "display_data"
    }
   ],
   "source": [
    "## Modelo de temas utilizando LDA\n",
    "LDA <- LDA(AssociatedPress, \n",
    "           k = 5)\n",
    "\n",
    "AssociatedPress$nrow             # Número de documentos "
   ]
  },
  {
   "cell_type": "code",
   "execution_count": 4,
   "metadata": {
    "collapsed": false
   },
   "outputs": [
    {
     "data": {
      "text/html": [
       "<ol class=list-inline>\n",
       "\t<li>5</li>\n",
       "\t<li>3</li>\n",
       "\t<li>5</li>\n",
       "\t<li>5</li>\n",
       "\t<li>5</li>\n",
       "\t<li>1</li>\n",
       "</ol>\n"
      ],
      "text/latex": [
       "\\begin{enumerate*}\n",
       "\\item 5\n",
       "\\item 3\n",
       "\\item 5\n",
       "\\item 5\n",
       "\\item 5\n",
       "\\item 1\n",
       "\\end{enumerate*}\n"
      ],
      "text/markdown": [
       "1. 5\n",
       "2. 3\n",
       "3. 5\n",
       "4. 5\n",
       "5. 5\n",
       "6. 1\n",
       "\n",
       "\n"
      ],
      "text/plain": [
       "[1] 5 3 5 5 5 1"
      ]
     },
     "metadata": {},
     "output_type": "display_data"
    },
    {
     "data": {
      "text/html": [
       "<ol class=list-inline>\n",
       "\t<li>3</li>\n",
       "\t<li>2</li>\n",
       "\t<li>2</li>\n",
       "\t<li>5</li>\n",
       "\t<li>5</li>\n",
       "\t<li>4</li>\n",
       "</ol>\n"
      ],
      "text/latex": [
       "\\begin{enumerate*}\n",
       "\\item 3\n",
       "\\item 2\n",
       "\\item 2\n",
       "\\item 5\n",
       "\\item 5\n",
       "\\item 4\n",
       "\\end{enumerate*}\n"
      ],
      "text/markdown": [
       "1. 3\n",
       "2. 2\n",
       "3. 2\n",
       "4. 5\n",
       "5. 5\n",
       "6. 4\n",
       "\n",
       "\n"
      ],
      "text/plain": [
       "[1] 3 2 2 5 5 4"
      ]
     },
     "metadata": {},
     "output_type": "display_data"
    }
   ],
   "source": [
    "## Temas a los que pertenece los doc.\n",
    "head(topics(LDA))\n",
    "tail(topics(LDA))"
   ]
  },
  {
   "cell_type": "code",
   "execution_count": 10,
   "metadata": {
    "collapsed": false
   },
   "outputs": [
    {
     "data": {
      "image/png": "[encoded data removed]",
      "text/plain": [
       "Plot with title \"Histogram of topics(LDA)\""
      ]
     },
     "metadata": {},
     "output_type": "display_data"
    }
   ],
   "source": [
    "## Histograma de frecuencia\n",
    "options(repr.plot.width=10, repr.plot.height=4)\n",
    "\n",
    "hist(topics(LDA),                         # Datos\n",
    "     breaks=5,                           # Particiones\n",
    "     xlab=\"# Temas\",                      # Nombre del eje x \n",
    "     ylab=\"# Documentos\",                 # Nombre del eje y\n",
    "     col=\"green\")                         # Color de las barras "
   ]
  },
  {
   "cell_type": "markdown",
   "metadata": {},
   "source": [
    "El $\\alpha$  del modelo está definido como 1 dividido el número de tópicos. Se puede configurar el parametro de la siguiente manera: "
   ]
  },
  {
   "cell_type": "code",
   "execution_count": 9,
   "metadata": {
    "collapsed": true
   },
   "outputs": [],
   "source": [
    "## Asignación de parametro alpha\n",
    "LDA2 <- LDA(AssociatedPress,               # Datos\n",
    "            control = list(alpha = 1),     # Alpha\n",
    "            k = 5)"
   ]
  },
  {
   "cell_type": "code",
   "execution_count": 11,
   "metadata": {
    "collapsed": false
   },
   "outputs": [
    {
     "data": {
      "image/png": "[encoded data removed]",
      "text/plain": [
       "Plot with title \"Histogram of topics(LDA2)\""
      ]
     },
     "metadata": {},
     "output_type": "display_data"
    }
   ],
   "source": [
    "## Histograma de frecuencia LDA2\n",
    "options(repr.plot.width=10, repr.plot.height=4)\n",
    "\n",
    "hist(topics(LDA2),                        # Datos\n",
    "     breaks=5,                            # Particiones\n",
    "     xlab=\"# Temas\",                      # Nombre del eje x \n",
    "     ylab=\"# Documentos\",                 # Nombre del eje y\n",
    "     col=\"purple\")                        # Color de las barras "
   ]
  },
  {
   "cell_type": "code",
   "execution_count": 12,
   "metadata": {
    "collapsed": false
   },
   "outputs": [
    {
     "data": {
      "text/html": [
       "<dl class=dl-horizontal>\n",
       "\t<dt>Topic 1</dt>\n",
       "\t\t<dd>'bush'</dd>\n",
       "\t<dt>Topic 2</dt>\n",
       "\t\t<dd>'percent'</dd>\n",
       "\t<dt>Topic 3</dt>\n",
       "\t\t<dd>'government'</dd>\n",
       "\t<dt>Topic 4</dt>\n",
       "\t\t<dd>'air'</dd>\n",
       "\t<dt>Topic 5</dt>\n",
       "\t\t<dd>'i'</dd>\n",
       "</dl>\n"
      ],
      "text/latex": [
       "\\begin{description*}\n",
       "\\item[Topic 1] 'bush'\n",
       "\\item[Topic 2] 'percent'\n",
       "\\item[Topic 3] 'government'\n",
       "\\item[Topic 4] 'air'\n",
       "\\item[Topic 5] 'i'\n",
       "\\end{description*}\n"
      ],
      "text/markdown": [
       "Topic 1\n",
       ":   'bush'Topic 2\n",
       ":   'percent'Topic 3\n",
       ":   'government'Topic 4\n",
       ":   'air'Topic 5\n",
       ":   'i'\n",
       "\n"
      ],
      "text/plain": [
       "     Topic 1      Topic 2      Topic 3      Topic 4      Topic 5 \n",
       "      \"bush\"    \"percent\" \"government\"        \"air\"          \"i\" "
      ]
     },
     "metadata": {},
     "output_type": "display_data"
    },
    {
     "data": {
      "text/html": [
       "<dl class=dl-horizontal>\n",
       "\t<dt>Topic 1</dt>\n",
       "\t\t<dd>'million'</dd>\n",
       "\t<dt>Topic 2</dt>\n",
       "\t\t<dd>'soviet'</dd>\n",
       "\t<dt>Topic 3</dt>\n",
       "\t\t<dd>'i'</dd>\n",
       "\t<dt>Topic 4</dt>\n",
       "\t\t<dd>'percent'</dd>\n",
       "\t<dt>Topic 5</dt>\n",
       "\t\t<dd>'bush'</dd>\n",
       "</dl>\n"
      ],
      "text/latex": [
       "\\begin{description*}\n",
       "\\item[Topic 1] 'million'\n",
       "\\item[Topic 2] 'soviet'\n",
       "\\item[Topic 3] 'i'\n",
       "\\item[Topic 4] 'percent'\n",
       "\\item[Topic 5] 'bush'\n",
       "\\end{description*}\n"
      ],
      "text/markdown": [
       "Topic 1\n",
       ":   'million'Topic 2\n",
       ":   'soviet'Topic 3\n",
       ":   'i'Topic 4\n",
       ":   'percent'Topic 5\n",
       ":   'bush'\n",
       "\n"
      ],
      "text/plain": [
       "  Topic 1   Topic 2   Topic 3   Topic 4   Topic 5 \n",
       "\"million\"  \"soviet\"       \"i\" \"percent\"    \"bush\" "
      ]
     },
     "metadata": {},
     "output_type": "display_data"
    }
   ],
   "source": [
    "## Tópicos\n",
    "\n",
    "terms(LDA)\n",
    "terms(LDA2)"
   ]
  },
  {
   "cell_type": "markdown",
   "metadata": {},
   "source": [
    "\n",
    "---"
   ]
  },
  {
   "cell_type": "markdown",
   "metadata": {
    "collapsed": true
   },
   "source": [
    "# Aplicación 2\n",
    "[Contenido](#Contenido)\n"
   ]
  },
  {
   "cell_type": "markdown",
   "metadata": {},
   "source": [
    "\n",
    "> [`tm {tm}`](https://cran.r-project.org/web/packages/tm/tm.pdf) \n",
    "\n",
    "\n",
    "> [`SnowballC {SnowballC}`](https://cran.r-project.org/web/packages/SnowballC/SnowballC.pdf) \n"
   ]
  },
  {
   "cell_type": "markdown",
   "metadata": {},
   "source": [
    "El comienzo del ejerecicio es para realizar el preprocesamiento de los datos, posteriormente se realizará el modelado de tópicos."
   ]
  },
  {
   "cell_type": "code",
   "execution_count": 1,
   "metadata": {
    "collapsed": false
   },
   "outputs": [
    {
     "name": "stderr",
     "output_type": "stream",
     "text": [
      "Warning message:\n",
      ": package 'tm' was built under R version 3.3.2Loading required package: NLP\n",
      "Warning message:\n",
      ": package 'NLP' was built under R version 3.3.2Warning message:\n",
      ": package 'SnowballC' was built under R version 3.3.2"
     ]
    }
   ],
   "source": [
    "## Instale y cargue las siguientes librerias\n",
    "\n",
    "library(tm)\n",
    "library(SnowballC)"
   ]
  },
  {
   "cell_type": "code",
   "execution_count": 2,
   "metadata": {
    "collapsed": false
   },
   "outputs": [],
   "source": [
    "## Direccionar el directorio a la carpeta\n",
    "setwd(\"topicmodel/\")"
   ]
  },
  {
   "cell_type": "code",
   "execution_count": 3,
   "metadata": {
    "collapsed": true
   },
   "outputs": [],
   "source": [
    "## Obtener lista de archivos con extensión .txt\n",
    "filenames  <- list.files(getwd(),pattern=\"*.txt\")\n",
    "\n",
    "## Leer los archivos en un vector de caracteres\n",
    "files      <- lapply(filenames,readLines)"
   ]
  },
  {
   "cell_type": "markdown",
   "metadata": {},
   "source": [
    "> [`Corpus {tm}`](https://www.rdocumentation.org/packages/tm/versions/0.3-1/topics/Corpus) "
   ]
  },
  {
   "cell_type": "code",
   "execution_count": 4,
   "metadata": {
    "collapsed": false
   },
   "outputs": [
    {
     "name": "stdout",
     "output_type": "stream",
     "text": [
      "c(\"Big Data metaphors we live by\", \"\", \"\", \"When Big Data metaphors erase human sensemaking, and the ways in which values are baked into categories, algorithms and visualizations, we have indeed lost the plot, not found it",
      " \", \"\", \"Quoted from my essay on metaphors for Big Data, co-written with Simon Buckingham Shum:\", \"\")\n"
     ]
    }
   ],
   "source": [
    "## Creación 'Corpus' del vector de caracteres\n",
    "docs       <- Corpus(VectorSource(files))\n",
    "\n",
    "## Mostar archivo 2 (bigdata)\n",
    "writeLines(as.character(docs[[2]]))\n",
    "\n"
   ]
  },
  {
   "cell_type": "code",
   "execution_count": 5,
   "metadata": {
    "collapsed": false
   },
   "outputs": [],
   "source": [
    "## Transformar contenido para poner todo en minuscula\n",
    "\n",
    "docs <-tm_map(docs,                           # Datos formato 'Corpus'\n",
    "              content_transformer(tolower))   # Transformación \n"
   ]
  },
  {
   "cell_type": "code",
   "execution_count": 6,
   "metadata": {
    "collapsed": false
   },
   "outputs": [],
   "source": [
    "## Retirar simbolos que puedan afectar el estudio\n",
    "\n",
    "toSpace <- content_transformer(function(x, pattern){\n",
    "    return (gsub(pattern,\" \", x))\n",
    "    }\n",
    "                              )\n",
    "\n",
    "docs <- tm_map(docs, toSpace, \"-\")\n",
    "docs <- tm_map(docs, toSpace, \"’\")\n",
    "docs <- tm_map(docs, toSpace, \"‘\")\n",
    "docs <- tm_map(docs, toSpace, \"•\")\n",
    "docs <- tm_map(docs, toSpace, \"“\")\n",
    "docs <- tm_map(docs, toSpace, \"”\")\n"
   ]
  },
  {
   "cell_type": "code",
   "execution_count": 7,
   "metadata": {
    "collapsed": false
   },
   "outputs": [
    {
     "name": "stdout",
     "output_type": "stream",
     "text": [
      "cbig data metaphors live big data metaphors erase human sensemaking ways values baked categories algorithms visualizations indeed lost plot found ",
      " quoted essay metaphors big data co written simon buckingham shum \n"
     ]
    }
   ],
   "source": [
    "## Retirar puntuación\n",
    "docs <- tm_map(docs, removePunctuation)\n",
    "\n",
    "## Remover números\n",
    "docs <- tm_map(docs, removeNumbers)\n",
    "\n",
    "## Remover palabras \n",
    "docs <- tm_map(docs, removeWords, stopwords(\"english\"))\n",
    "\n",
    "## Remover espacios en blanco\n",
    "docs <- tm_map(docs, stripWhitespace)\n",
    "\n",
    "## Mostar archivo 2 (bigdata) con las transformaciones realizadas\n",
    "writeLines(as.character(docs[[2]]))"
   ]
  },
  {
   "cell_type": "code",
   "execution_count": 8,
   "metadata": {
    "collapsed": false
   },
   "outputs": [],
   "source": [
    "## Guardar documento\n",
    "docs   <- tm_map(docs,stemDocument)"
   ]
  },
  {
   "cell_type": "code",
   "execution_count": 9,
   "metadata": {
    "collapsed": true
   },
   "outputs": [],
   "source": [
    "## Arreglar errores de sintaxis en ingles y generales\n",
    "\n",
    "docs <- tm_map(docs, content_transformer(gsub),\n",
    "               pattern = \"organiz\", replacement = \"organ\")\n",
    "\n",
    "docs <- tm_map(docs, content_transformer(gsub),\n",
    "               pattern = \"organis\", replacement = \"organ\")\n",
    "\n",
    "docs <- tm_map(docs, content_transformer(gsub),\n",
    "               pattern = \"andgovern\", replacement = \"govern\")\n",
    "\n",
    "docs <- tm_map(docs, content_transformer(gsub),\n",
    "               pattern = \"inenterpris\", replacement = \"enterpris\")\n",
    "\n",
    "docs <- tm_map(docs, content_transformer(gsub),\n",
    "               pattern = \"team-\", replacement = \"team\")"
   ]
  },
  {
   "cell_type": "code",
   "execution_count": 10,
   "metadata": {
    "collapsed": false
   },
   "outputs": [
    {
     "name": "stdout",
     "output_type": "stream",
     "text": [
      "cbig data metaphor live big data metaphor eras human sensemak  valu bake categori algorithm visual inde lost plot  ",
      " quot essay metaphor big data co written simon buckingham shum\n"
     ]
    }
   ],
   "source": [
    "## Definir conjunto de palabras para removerlas\n",
    "\n",
    "myStopwords <- c(\"can\", \"say\",\"one\",\"way\",\"use\",\n",
    "                     \"also\",\"howev\",\"tell\",\"will\",\n",
    "                     \"much\",\"need\",\"take\",\"tend\",\n",
    "                     \"even\",\"like\",\"particular\",\n",
    "                     \"rather\",\"said\",\"get\",\"well\",\n",
    "                     \"make\",\"ask\",\"come\",\"end\",\n",
    "                     \"first\",\"two\",\"help\",\"often\",\n",
    "                     \"may\",\"might\",\"see\",\"someth\",\n",
    "                     \"thing\",\"point\",\"post\",\"look\",\n",
    "                     \"right\",\"now\",\"think\",\"‘ve \",\n",
    "                     \"‘re \",\"anoth\",\"put\",\"set\",\n",
    "                     \"new\",\"good\",\"want\",\"sure\",\n",
    "                     \"kind\",\"larg\",\"yes,\",\"day\",\n",
    "                     \"etc\",\"quit\",\"sinc\",\"attempt\",\n",
    "                     \"lack\",\"seen\",\"awar\",\"littl\",\n",
    "                     \"ever\",\"moreov\",\"though\",\"found\",\n",
    "                     \"abl\",\"enough\",\"far\",\"earli\",\n",
    "                     \"away\",\"achiev\",\"draw\",\"last\",\n",
    "                     \"never\",\"brief\",\"bit\",\"entir\",\n",
    "                     \"brief\",\"great\",\"lot\")\n",
    "\n",
    "## Remover palabras\n",
    "docs <- tm_map(docs, removeWords, myStopwords)\n",
    "\n",
    "## Mostar archivo 2 (bigdata) con las transformaciones realizadas\n",
    "writeLines(as.character(docs[[2]]))"
   ]
  },
  {
   "cell_type": "markdown",
   "metadata": {},
   "source": [
    "\n",
    "> [` DocumentTermMatrix{tm}`](https://cran.r-project.org/web/packages/tm/tm.pdf) "
   ]
  },
  {
   "cell_type": "code",
   "execution_count": 15,
   "metadata": {
    "collapsed": false
   },
   "outputs": [
    {
     "data": {
      "text/html": [
       "3821"
      ],
      "text/latex": [
       "3821"
      ],
      "text/markdown": [
       "3821"
      ],
      "text/plain": [
       "[1] 3821"
      ]
     },
     "metadata": {},
     "output_type": "display_data"
    }
   ],
   "source": [
    "## Crear documento tipo matriz de conjunto de datos\n",
    "dtm           <- DocumentTermMatrix(docs)\n",
    "\n",
    "## Nombre de filas como nombre de archivos\n",
    "rownames(dtm) <- filenames\n",
    "\n",
    "## Sumar sobre columnas\n",
    "freq          <- colSums(as.matrix(dtm))\n",
    "\n",
    "## Longitud = numero total de terminos\n",
    "length(freq)"
   ]
  },
  {
   "cell_type": "code",
   "execution_count": 16,
   "metadata": {
    "collapsed": false
   },
   "outputs": [
    {
     "data": {
      "text/html": [
       "<dl class=dl-horizontal>\n",
       "\t<dt>organ</dt>\n",
       "\t\t<dd>277</dd>\n",
       "\t<dt>manag</dt>\n",
       "\t\t<dd>231</dd>\n",
       "\t<dt>work</dt>\n",
       "\t\t<dd>211</dd>\n",
       "\t<dt>system</dt>\n",
       "\t\t<dd>192</dd>\n",
       "\t<dt>project</dt>\n",
       "\t\t<dd>188</dd>\n",
       "\t<dt>problem</dt>\n",
       "\t\t<dd>173</dd>\n",
       "</dl>\n"
      ],
      "text/latex": [
       "\\begin{description*}\n",
       "\\item[organ] 277\n",
       "\\item[manag] 231\n",
       "\\item[work] 211\n",
       "\\item[system] 192\n",
       "\\item[project] 188\n",
       "\\item[problem] 173\n",
       "\\end{description*}\n"
      ],
      "text/markdown": [
       "organ\n",
       ":   277manag\n",
       ":   231work\n",
       ":   211system\n",
       ":   192project\n",
       ":   188problem\n",
       ":   173\n",
       "\n"
      ],
      "text/plain": [
       "  organ   manag    work  system project problem \n",
       "    277     231     211     192     188     173 "
      ]
     },
     "metadata": {},
     "output_type": "display_data"
    },
    {
     "data": {
      "text/html": [
       "<dl class=dl-horizontal>\n",
       "\t<dt>therebi</dt>\n",
       "\t\t<dd>1</dd>\n",
       "\t<dt>timeorgan</dt>\n",
       "\t\t<dd>1</dd>\n",
       "\t<dt>twilling</dt>\n",
       "\t\t<dd>1</dd>\n",
       "\t<dt>uncommit</dt>\n",
       "\t\t<dd>1</dd>\n",
       "\t<dt>unionist</dt>\n",
       "\t\t<dd>1</dd>\n",
       "\t<dt>workday</dt>\n",
       "\t\t<dd>1</dd>\n",
       "</dl>\n"
      ],
      "text/latex": [
       "\\begin{description*}\n",
       "\\item[therebi] 1\n",
       "\\item[timeorgan] 1\n",
       "\\item[twilling] 1\n",
       "\\item[uncommit] 1\n",
       "\\item[unionist] 1\n",
       "\\item[workday] 1\n",
       "\\end{description*}\n"
      ],
      "text/markdown": [
       "therebi\n",
       ":   1timeorgan\n",
       ":   1twilling\n",
       ":   1uncommit\n",
       ":   1unionist\n",
       ":   1workday\n",
       ":   1\n",
       "\n"
      ],
      "text/plain": [
       "  therebi timeorgan  twilling  uncommit  unionist   workday \n",
       "        1         1         1         1         1         1 "
      ]
     },
     "metadata": {},
     "output_type": "display_data"
    }
   ],
   "source": [
    "## Ordenar de manera descendiente\n",
    "ord <- order(freq,decreasing=TRUE)\n",
    "\n",
    "## Lista de los terminos\n",
    "head(freq[ord])     # Primeros terminos\n",
    "tail(freq[ord])     # últimos terminos\n"
   ]
  },
  {
   "cell_type": "code",
   "execution_count": 17,
   "metadata": {
    "collapsed": true
   },
   "outputs": [],
   "source": [
    "## Guardar terminos en un archivo CSV\n",
    "write.csv(freq[ord],\"word_freq.csv\")   # Puede ver los datos en la carpeta de directorio que definio al comienzo"
   ]
  },
  {
   "cell_type": "markdown",
   "metadata": {},
   "source": [
    "Modelado"
   ]
  },
  {
   "cell_type": "code",
   "execution_count": 18,
   "metadata": {
    "collapsed": false
   },
   "outputs": [
    {
     "name": "stderr",
     "output_type": "stream",
     "text": [
      "Warning message:\n",
      ": package 'topicmodels' was built under R version 3.3.2"
     ]
    }
   ],
   "source": [
    "## Instale y cargue las siguientes librerias\n",
    "\n",
    "library(topicmodels)"
   ]
  },
  {
   "cell_type": "code",
   "execution_count": 19,
   "metadata": {
    "collapsed": true
   },
   "outputs": [],
   "source": [
    "## Definición de parametros\n",
    "\n",
    "burnin <- 4000\n",
    "iter   <- 2000\n",
    "thin   <- 500\n",
    "seed   <-list(2003,5,63,100001,765)\n",
    "nstart <- 5\n",
    "\n",
    "\n",
    "## Número de tópicos\n",
    "k      <- 5"
   ]
  },
  {
   "cell_type": "markdown",
   "metadata": {},
   "source": [
    "\n",
    "> [` LDA {topicmodels}`](https://cran.r-project.org/web/packages/topicmodels/topicmodels.pdf) "
   ]
  },
  {
   "cell_type": "code",
   "execution_count": 27,
   "metadata": {
    "collapsed": false
   },
   "outputs": [],
   "source": [
    "## Modelado\n",
    "\n",
    "ldaOut <-LDA(dtm,                           # data\n",
    "             k,                             # Número de tópicos   \n",
    "             method=\"Gibbs\",                # Método de ajuste\n",
    "             control=list(nstart=nstart,    # Control de parametros\n",
    "                          seed = seed,\n",
    "                          best=T,\n",
    "                          burnin = burnin, \n",
    "                          iter = iter,\n",
    "                          thin=thin))"
   ]
  },
  {
   "cell_type": "code",
   "execution_count": 22,
   "metadata": {
    "collapsed": true
   },
   "outputs": [],
   "source": [
    "## Tópicos asociados a cada artchivo\n",
    "ldaOut.topics <- as.matrix(topics(ldaOut))            \n",
    "\n",
    "## Guardar salida en archivo CSV\n",
    "write.csv(ldaOut.topics,\n",
    "          file=paste(\"LDAGibbs\",k,\"DocsToTopics.csv\"))\n",
    "\n"
   ]
  },
  {
   "cell_type": "code",
   "execution_count": 25,
   "metadata": {
    "collapsed": false
   },
   "outputs": [
    {
     "data": {
      "text/html": [
       "<table>\n",
       "<tbody>\n",
       "\t<tr><th scope=row>BeyondEntitiesAndRelationships.txt</th><td>1</td></tr>\n",
       "\t<tr><th scope=row>bigdata.txt</th><td>1</td></tr>\n",
       "\t<tr><th scope=row>ConditionsOverCauses.txt</th><td>4</td></tr>\n",
       "\t<tr><th scope=row>EmergentDesignInEnterpriseIT.txt</th><td>4</td></tr>\n",
       "\t<tr><th scope=row>FromInformationToKnowledge.txt</th><td>3</td></tr>\n",
       "\t<tr><th scope=row>FromTheCoalface.txt</th><td>5</td></tr>\n",
       "\t<tr><th scope=row>HeraclitusAndParmenides.txt</th><td>2</td></tr>\n",
       "\t<tr><th scope=row>IroniesOfEnterpriseIT.txt</th><td>5</td></tr>\n",
       "\t<tr><th scope=row>MakingSenseOfOrganizationalChange.txt</th><td>2</td></tr>\n",
       "\t<tr><th scope=row>MakingSenseOfSensemaking.txt</th><td>3</td></tr>\n",
       "\t<tr><th scope=row>ObjectivityAndTheEthicalDimensionOfDecisionMaking.txt</th><td>2</td></tr>\n",
       "\t<tr><th scope=row>OnTheInherentAmbiguitiesOfManagingProjects.txt</th><td>3</td></tr>\n",
       "\t<tr><th scope=row>OrganisationalSurprise.txt</th><td>4</td></tr>\n",
       "\t<tr><th scope=row>ProfessionalsOrPoliticians.txt</th><td>5</td></tr>\n",
       "\t<tr><th scope=row>RitualsInInformationSystemDesign.txt</th><td>1</td></tr>\n",
       "\t<tr><th scope=row>RoutinesAndReality.txt</th><td>4</td></tr>\n",
       "\t<tr><th scope=row>ScapegoatsAndSystems.txt</th><td>4</td></tr>\n",
       "\t<tr><th scope=row>SherlockHolmesFailedProjects.txt</th><td>2</td></tr>\n",
       "\t<tr><th scope=row>sherlockHolmesMgmtFetis.txt</th><td>2</td></tr>\n",
       "\t<tr><th scope=row>SixHeresiesForBI.txt</th><td>1</td></tr>\n",
       "\t<tr><th scope=row>SixHeresiesForEnterpriseArchitecture.txt</th><td>5</td></tr>\n",
       "\t<tr><th scope=row>TheArchitectAndTheApparition.txt</th><td>5</td></tr>\n",
       "\t<tr><th scope=row>TheCloudAndTheGrass.txt</th><td>3</td></tr>\n",
       "\t<tr><th scope=row>TheConsultantsDilemma.txt</th><td>5</td></tr>\n",
       "\t<tr><th scope=row>TheDangerWithin.txt</th><td>4</td></tr>\n",
       "\t<tr><th scope=row>TheDilemmasOfEnterpriseIT.txt</th><td>5</td></tr>\n",
       "\t<tr><th scope=row>TheEssenceOfEntrepreneurship.txt</th><td>1</td></tr>\n",
       "\t<tr><th scope=row>ThreeTypesOfUncertainty.txt</th><td>2</td></tr>\n",
       "\t<tr><th scope=row>TOGAFOrNotTOGAF.txt</th><td>5</td></tr>\n",
       "\t<tr><th scope=row>UnderstandingFlexibility.txt</th><td>5</td></tr>\n",
       "</tbody>\n",
       "</table>\n"
      ],
      "text/latex": [
       "\\begin{tabular}{r|l}\n",
       "\tBeyondEntitiesAndRelationships.txt & 1\\\\\n",
       "\tbigdata.txt & 1\\\\\n",
       "\tConditionsOverCauses.txt & 4\\\\\n",
       "\tEmergentDesignInEnterpriseIT.txt & 4\\\\\n",
       "\tFromInformationToKnowledge.txt & 3\\\\\n",
       "\tFromTheCoalface.txt & 5\\\\\n",
       "\tHeraclitusAndParmenides.txt & 2\\\\\n",
       "\tIroniesOfEnterpriseIT.txt & 5\\\\\n",
       "\tMakingSenseOfOrganizationalChange.txt & 2\\\\\n",
       "\tMakingSenseOfSensemaking.txt & 3\\\\\n",
       "\tObjectivityAndTheEthicalDimensionOfDecisionMaking.txt & 2\\\\\n",
       "\tOnTheInherentAmbiguitiesOfManagingProjects.txt & 3\\\\\n",
       "\tOrganisationalSurprise.txt & 4\\\\\n",
       "\tProfessionalsOrPoliticians.txt & 5\\\\\n",
       "\tRitualsInInformationSystemDesign.txt & 1\\\\\n",
       "\tRoutinesAndReality.txt & 4\\\\\n",
       "\tScapegoatsAndSystems.txt & 4\\\\\n",
       "\tSherlockHolmesFailedProjects.txt & 2\\\\\n",
       "\tsherlockHolmesMgmtFetis.txt & 2\\\\\n",
       "\tSixHeresiesForBI.txt & 1\\\\\n",
       "\tSixHeresiesForEnterpriseArchitecture.txt & 5\\\\\n",
       "\tTheArchitectAndTheApparition.txt & 5\\\\\n",
       "\tTheCloudAndTheGrass.txt & 3\\\\\n",
       "\tTheConsultantsDilemma.txt & 5\\\\\n",
       "\tTheDangerWithin.txt & 4\\\\\n",
       "\tTheDilemmasOfEnterpriseIT.txt & 5\\\\\n",
       "\tTheEssenceOfEntrepreneurship.txt & 1\\\\\n",
       "\tThreeTypesOfUncertainty.txt & 2\\\\\n",
       "\tTOGAFOrNotTOGAF.txt & 5\\\\\n",
       "\tUnderstandingFlexibility.txt & 5\\\\\n",
       "\\end{tabular}\n"
      ],
      "text/markdown": [
       "1. 1\n",
       "2. 1\n",
       "3. 4\n",
       "4. 4\n",
       "5. 3\n",
       "6. 5\n",
       "7. 2\n",
       "8. 5\n",
       "9. 2\n",
       "10. 3\n",
       "11. 2\n",
       "12. 3\n",
       "13. 4\n",
       "14. 5\n",
       "15. 1\n",
       "16. 4\n",
       "17. 4\n",
       "18. 2\n",
       "19. 2\n",
       "20. 1\n",
       "21. 5\n",
       "22. 5\n",
       "23. 3\n",
       "24. 5\n",
       "25. 4\n",
       "26. 5\n",
       "27. 1\n",
       "28. 2\n",
       "29. 5\n",
       "30. 5\n",
       "\n",
       "\n"
      ],
      "text/plain": [
       "                                                      [,1]\n",
       "BeyondEntitiesAndRelationships.txt                    1   \n",
       "bigdata.txt                                           1   \n",
       "ConditionsOverCauses.txt                              4   \n",
       "EmergentDesignInEnterpriseIT.txt                      4   \n",
       "FromInformationToKnowledge.txt                        3   \n",
       "FromTheCoalface.txt                                   5   \n",
       "HeraclitusAndParmenides.txt                           2   \n",
       "IroniesOfEnterpriseIT.txt                             5   \n",
       "MakingSenseOfOrganizationalChange.txt                 2   \n",
       "MakingSenseOfSensemaking.txt                          3   \n",
       "ObjectivityAndTheEthicalDimensionOfDecisionMaking.txt 2   \n",
       "OnTheInherentAmbiguitiesOfManagingProjects.txt        3   \n",
       "OrganisationalSurprise.txt                            4   \n",
       "ProfessionalsOrPoliticians.txt                        5   \n",
       "RitualsInInformationSystemDesign.txt                  1   \n",
       "RoutinesAndReality.txt                                4   \n",
       "ScapegoatsAndSystems.txt                              4   \n",
       "SherlockHolmesFailedProjects.txt                      2   \n",
       "sherlockHolmesMgmtFetis.txt                           2   \n",
       "SixHeresiesForBI.txt                                  1   \n",
       "SixHeresiesForEnterpriseArchitecture.txt              5   \n",
       "TheArchitectAndTheApparition.txt                      5   \n",
       "TheCloudAndTheGrass.txt                               3   \n",
       "TheConsultantsDilemma.txt                             5   \n",
       "TheDangerWithin.txt                                   4   \n",
       "TheDilemmasOfEnterpriseIT.txt                         5   \n",
       "TheEssenceOfEntrepreneurship.txt                      1   \n",
       "ThreeTypesOfUncertainty.txt                           2   \n",
       "TOGAFOrNotTOGAF.txt                                   5   \n",
       "UnderstandingFlexibility.txt                          5   "
      ]
     },
     "metadata": {},
     "output_type": "display_data"
    }
   ],
   "source": [
    "ldaOut.topics"
   ]
  },
  {
   "cell_type": "code",
   "execution_count": 23,
   "metadata": {
    "collapsed": true
   },
   "outputs": [],
   "source": [
    "## 6 primeros terminos por cada tópico\n",
    "ldaOut.terms <- as.matrix(terms(ldaOut,6))\n",
    "write.csv(ldaOut.terms,\n",
    "          file=paste(\"LDAGibbs\",k,\"TopicsToTerms.csv\"))\n",
    "\n"
   ]
  },
  {
   "cell_type": "code",
   "execution_count": 26,
   "metadata": {
    "collapsed": false
   },
   "outputs": [
    {
     "data": {
      "text/html": [
       "<table>\n",
       "<thead><tr><th scope=col>Topic 1</th><th scope=col>Topic 2</th><th scope=col>Topic 3</th><th scope=col>Topic 4</th><th scope=col>Topic 5</th></tr></thead>\n",
       "<tbody>\n",
       "\t<tr><td>data       </td><td>chang      </td><td>question   </td><td>system     </td><td>enterpris  </td></tr>\n",
       "\t<tr><td>model      </td><td>decis      </td><td>map        </td><td>project    </td><td>organ      </td></tr>\n",
       "\t<tr><td>differ     </td><td>problem    </td><td>time       </td><td>manag      </td><td>consult    </td></tr>\n",
       "\t<tr><td>view       </td><td>organ      </td><td>ibi        </td><td>organ      </td><td>work       </td></tr>\n",
       "\t<tr><td>busi       </td><td>consequ    </td><td>issu       </td><td>process    </td><td>flexibl    </td></tr>\n",
       "\t<tr><td>practic    </td><td>uncertainti</td><td>exampl     </td><td>design     </td><td>manag      </td></tr>\n",
       "</tbody>\n",
       "</table>\n"
      ],
      "text/latex": [
       "\\begin{tabular}{lllll}\n",
       " Topic 1 & Topic 2 & Topic 3 & Topic 4 & Topic 5\\\\\n",
       "\\hline\n",
       "\t data        & chang       & question    & system      & enterpris  \\\\\n",
       "\t model       & decis       & map         & project     & organ      \\\\\n",
       "\t differ      & problem     & time        & manag       & consult    \\\\\n",
       "\t view        & organ       & ibi         & organ       & work       \\\\\n",
       "\t busi        & consequ     & issu        & process     & flexibl    \\\\\n",
       "\t practic     & uncertainti & exampl      & design      & manag      \\\\\n",
       "\\end{tabular}\n"
      ],
      "text/markdown": [
       "1. 'data'\n",
       "2. 'model'\n",
       "3. 'differ'\n",
       "4. 'view'\n",
       "5. 'busi'\n",
       "6. 'practic'\n",
       "7. 'chang'\n",
       "8. 'decis'\n",
       "9. 'problem'\n",
       "10. 'organ'\n",
       "11. 'consequ'\n",
       "12. 'uncertainti'\n",
       "13. 'question'\n",
       "14. 'map'\n",
       "15. 'time'\n",
       "16. 'ibi'\n",
       "17. 'issu'\n",
       "18. 'exampl'\n",
       "19. 'system'\n",
       "20. 'project'\n",
       "21. 'manag'\n",
       "22. 'organ'\n",
       "23. 'process'\n",
       "24. 'design'\n",
       "25. 'enterpris'\n",
       "26. 'organ'\n",
       "27. 'consult'\n",
       "28. 'work'\n",
       "29. 'flexibl'\n",
       "30. 'manag'\n",
       "\n",
       "\n"
      ],
      "text/plain": [
       "     Topic 1 Topic 2     Topic 3  Topic 4 Topic 5  \n",
       "[1,] data    chang       question system  enterpris\n",
       "[2,] model   decis       map      project organ    \n",
       "[3,] differ  problem     time     manag   consult  \n",
       "[4,] view    organ       ibi      organ   work     \n",
       "[5,] busi    consequ     issu     process flexibl  \n",
       "[6,] practic uncertainti exampl   design  manag    "
      ]
     },
     "metadata": {},
     "output_type": "display_data"
    }
   ],
   "source": [
    "ldaOut.terms"
   ]
  },
  {
   "cell_type": "markdown",
   "metadata": {
    "collapsed": true
   },
   "source": [
    "---"
   ]
  },
  {
   "cell_type": "markdown",
   "metadata": {},
   "source": [
    "**Ejercicio.--** El siguiente conjunto de datos contiene 229 archivos de texto donde cada uno tiene el resumen de un artículo cientifico. Realice un modelado de tópicos para este conjunto de datos utilizando las técnicas presentadas en este notebook.\n",
    "\n",
    "\n",
    "[Datos](https://drive.google.com/file/d/0B4psHlllKLPUQjNyUlFWUjZubmM/view?usp=sharing)"
   ]
  },
  {
   "cell_type": "code",
   "execution_count": null,
   "metadata": {
    "collapsed": true
   },
   "outputs": [],
   "source": []
  },
  {
   "cell_type": "markdown",
   "metadata": {
    "collapsed": true
   },
   "source": [
    "---"
   ]
  },
  {
   "cell_type": "markdown",
   "metadata": {},
   "source": [
    "[Contenido](#Contenido)\n"
   ]
  }
 ],
 "metadata": {
  "anaconda-cloud": {},
  "kernelspec": {
   "display_name": "R",
   "language": "R",
   "name": "ir"
  },
  "language_info": {
   "codemirror_mode": "r",
   "file_extension": ".r",
   "mimetype": "text/x-r-source",
   "name": "R",
   "pygments_lexer": "r",
   "version": "3.3.1"
  }
 },
 "nbformat": 4,
 "nbformat_minor": 0
}
