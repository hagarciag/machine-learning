{
 "cells": [
  {
   "cell_type": "markdown",
   "metadata": {},
   "source": [
    "# Tarea-IPy-regresion-logistica"
   ]
  },
  {
   "cell_type": "markdown",
   "metadata": {},
   "source": [
    "Esta tarea debe ser realizada en Python."
   ]
  },
  {
   "cell_type": "markdown",
   "metadata": {},
   "source": [
    "**Punto 1.--** Construya un gráfico de la función logistica"
   ]
  },
  {
   "cell_type": "code",
   "execution_count": 5,
   "metadata": {
    "collapsed": false
   },
   "outputs": [
    {
     "name": "stdout",
     "output_type": "stream",
     "text": [
      "Automatically created module for IPython interactive environment\n"
     ]
    },
    {
     "data": {
      "image/png": "[encoded data removed]",
      "text/plain": [
       "<matplotlib.figure.Figure at 0x20f83e9e438>"
      ]
     },
     "metadata": {},
     "output_type": "display_data"
    }
   ],
   "source": [
    "print(__doc__)\n",
    "\n",
    "\n",
    "# Code source: Gael Varoquaux\n",
    "# License: BSD 3 clause\n",
    "\n",
    "import numpy as np\n",
    "import matplotlib.pyplot as plt\n",
    "\n",
    "from sklearn import linear_model\n",
    "\n",
    "# this is our test set, it's just a straight line with some\n",
    "# Gaussian noise\n",
    "xmin, xmax = -5, 5\n",
    "n_samples = 100\n",
    "np.random.seed(0)\n",
    "X = np.random.normal(size=n_samples)\n",
    "y = (X > 0).astype(np.float)\n",
    "X[X > 0] *= 4\n",
    "X += .3 * np.random.normal(size=n_samples)\n",
    "\n",
    "X = X[:, np.newaxis]\n",
    "# run the classifier\n",
    "clf = linear_model.LogisticRegression(C=1e5)\n",
    "clf.fit(X, y)\n",
    "\n",
    "# and plot the result\n",
    "plt.figure(1, figsize=(4, 3))\n",
    "plt.clf()\n",
    "plt.scatter(X.ravel(), y, color='black', zorder=20)\n",
    "X_test = np.linspace(-5, 10, 300)\n",
    "\n",
    "\n",
    "def model(x):\n",
    "    return 1 / (1 + np.exp(-x))\n",
    "loss = model(X_test * clf.coef_ + clf.intercept_).ravel()\n",
    "plt.plot(X_test, loss, color='blue', linewidth=1)\n",
    "\n",
    "ols = linear_model.LinearRegression()\n",
    "#ols.fit(X, y)\n",
    "#plt.plot(X_test, ols.coef_ * X_test + ols.intercept_, linewidth=1)\n",
    "#plt.axhline(.5, color='.5')\n",
    "\n",
    "plt.ylabel('y')\n",
    "plt.xlabel('X')\n",
    "plt.xticks(range(-5, 10))\n",
    "plt.yticks([0, 0.5, 1])\n",
    "plt.ylim(-.25, 1.25)\n",
    "plt.xlim(-4, 10)\n",
    "#plt.legend(('Logistic Regression Model'),           loc=\"lower right\", fontsize='small')\n",
    "plt.show()"
   ]
  },
  {
   "cell_type": "markdown",
   "metadata": {},
   "source": [
    "**Punto 2.--** Aplique la regresión logística para construir clasificadores para los datos que hay en el archivo `data.dat`. Imprima los parámetros de cada uno de los clasificadores. Compare los resultados con los obtenidos usando R."
   ]
  },
  {
   "cell_type": "code",
   "execution_count": null,
   "metadata": {
    "collapsed": false
   },
   "outputs": [],
   "source": [
    "import pandas as pd\n",
    "import numpy as np\n",
    "import statsmodels.api as sm\n",
    "import statsmodels.formula.api as smf\n",
    "\n",
    "data    = pandas.read_table('data.dat',    sep = '\\t', decimal = '.')\n",
    "#C1 = data['t'].map(lambda x: 1 if x == 1 else 0)\n",
    "data['C1']=data['t'] == 1\n",
    "data['C2']=data['t'] == 2\n",
    "data['C3']=data['t'] == 3\n",
    "\n",
    "data=data.reset_index()\n",
    "\n",
    "mC1 = smf.glm(formula='C1 ~ x1 + x2', data=data, family=sm.families.Binomial())\n",
    "rC1 = mC1.fit()\n",
    "print(rC1.params)\n",
    "\n",
    "mC2 = smf.glm(formula='C2 ~ x1 + x2', data=data, family=sm.families.Binomial())\n",
    "rC2 = mC2.fit()\n",
    "print(rC2.params)\n",
    "\n",
    "mC3 = smf.glm(formula='C3 ~ x1 + x2', data=data, family=sm.families.Binomial())\n",
    "rC3 = mC3.fit()\n",
    "print(rC3.params)"
   ]
  },
  {
   "cell_type": "markdown",
   "metadata": {},
   "source": [
    "**Punto 3.--** Grafique los puntos pertenecientes a cada clase y las fronteras de decisión, que corresponden a la ecuación logística."
   ]
  },
  {
   "cell_type": "code",
   "execution_count": 173,
   "metadata": {
    "collapsed": false
   },
   "outputs": [
    {
     "data": {
      "text/plain": [
       "[<matplotlib.lines.Line2D at 0x26d59f51710>]"
      ]
     },
     "execution_count": 173,
     "metadata": {},
     "output_type": "execute_result"
    },
    {
     "data": {
      "image/png": "[encoded data removed]",
      "text/plain": [
       "<matplotlib.figure.Figure at 0x26d59eb4b38>"
      ]
     },
     "metadata": {},
     "output_type": "display_data"
    }
   ],
   "source": [
    "import numpy as np\n",
    "import pandas as pd\n",
    "import matplotlib.pyplot as plt\n",
    "\n",
    "# plot\n",
    "# ==============================\n",
    "fig, ax = plt.subplots()\n",
    "dataC1=data[data['t']==1]\n",
    "ax.scatter(dataC1.x1, dataC1.x2)\n",
    "\n",
    "dataC2=data[data['t']==2]\n",
    "ax.scatter(dataC2.x1, dataC2.x2)\n",
    "\n",
    "dataC3=data[data['t']==3]\n",
    "ax.scatter(dataC3.x1, dataC3.x2)\n",
    "\n",
    "x_min=min(data.x1)\n",
    "x_max=max(data.x1)\n",
    "y_min=min(data.x2)\n",
    "y_max=max(data.x2)\n",
    "\n",
    "# Grupo 1\n",
    "c = -rC1.params[0] / rC1.params[2]\n",
    "slope = -rC1.params[1] / rC1.params[2]\n",
    "\n",
    "#x_min, x_max = ax.get_xlim()\n",
    "y_min, y_max = c, c + slope*((x_max-5)-x_min)\n",
    "ax.plot([x_min, (x_max-5)], [y_min, y_max])\n",
    "\n",
    "# Grupo 2\n",
    "c = -rC2.params[0] / rC2.params[2]\n",
    "slope = -rC2.params[1] / rC2.params[2]\n",
    "\n",
    "#x_min, x_max = ax.get_xlim()\n",
    "y_min, y_max = c, c + slope*(x_max-x_min)\n",
    "ax.plot([x_min, x_max], [y_min, y_max])\n",
    "\n",
    "# Grupo 3\n",
    "c = -rC3.params[0] / rC3.params[2]\n",
    "slope = -rC3.params[1] / rC3.params[2]\n",
    "\n",
    "#x_min, x_max = ax.get_xlim()\n",
    "y_min, y_max = c, c + slope*(x_max-x_min)\n",
    "ax.plot([x_min, x_max], [y_min, y_max])\n",
    "\n",
    "#ax.set_xlim([x_min, x_max])"
   ]
  },
  {
   "cell_type": "markdown",
   "metadata": {},
   "source": [
    "**Punto 4.--** Aplique la regresión logística al caso 'Enfermedades del corazón'."
   ]
  },
  {
   "cell_type": "code",
   "execution_count": 13,
   "metadata": {
    "collapsed": false
   },
   "outputs": [
    {
     "name": "stdout",
     "output_type": "stream",
     "text": [
      "             precision    recall  f1-score   support\n",
      "\n",
      "        1.0       0.82      0.86      0.84        76\n",
      "        2.0       0.81      0.77      0.79        60\n",
      "\n",
      "avg / total       0.82      0.82      0.82       136\n",
      "\n",
      "PREDICCION  1.0  2.0\n",
      "REAL                \n",
      "1.0          65   11\n",
      "2.0          14   46\n"
     ]
    }
   ],
   "source": [
    "import numpy as np\n",
    "from sklearn.linear_model import LogisticRegression\n",
    "from sklearn import metrics\n",
    "import pandas as pd\n",
    "\n",
    "\n",
    "data = data.as_matrix()\n",
    "data = np.matrix(data)\n",
    "\n",
    "np.random.seed(123)\n",
    "m_train    = np.random.rand(len(data)) < 0.5\n",
    "dataEntrenamiento = data[m_train,]\n",
    "dataPrueba  = data[~m_train,]\n",
    "\n",
    "claseEntrenamiento = dataEntrenamiento[:,-1]\n",
    "claseEntrenamiento = claseEntrenamiento.A1 #convierte de matriz a vector \n",
    "clasePrueba  = dataPrueba[:,-1]\n",
    "clasePrueba  = clasePrueba.A1 #convierte de matriz a vector \n",
    "\n",
    "modelo_lr = LogisticRegression()\n",
    "modelo_lr.fit(X=dataEntrenamiento[:,:-1],y=claseEntrenamiento)\n",
    "\n",
    "predicion = modelo_lr.predict(dataPrueba[:,:-1])\n",
    "\n",
    "print(metrics.classification_report(y_true=clasePrueba, y_pred=predicion))\n",
    "print(pd.crosstab(dataPrueba[:,-1].A1, predicion, rownames=['REAL'], colnames=['PREDICCION']))"
   ]
  },
  {
   "cell_type": "markdown",
   "metadata": {},
   "source": [
    "----"
   ]
  }
 ],
 "metadata": {
  "kernelspec": {
   "display_name": "Python 3",
   "language": "python",
   "name": "python3"
  },
  "language_info": {
   "codemirror_mode": {
    "name": "ipython",
    "version": 3
   },
   "file_extension": ".py",
   "mimetype": "text/x-python",
   "name": "python",
   "nbconvert_exporter": "python",
   "pygments_lexer": "ipython3",
   "version": "3.6.0"
  }
 },
 "nbformat": 4,
 "nbformat_minor": 2
}
